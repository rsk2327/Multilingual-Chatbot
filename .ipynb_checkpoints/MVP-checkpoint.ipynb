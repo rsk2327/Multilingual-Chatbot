{
 "cells": [
  {
   "cell_type": "code",
   "execution_count": 230,
   "id": "cf29666d-aca6-4164-8e5c-c345683765bd",
   "metadata": {},
   "outputs": [],
   "source": [
    "import os\n",
    "import getpass\n",
    "from langchain.agents import create_openai_functions_agent\n",
    "from langchain_openai.chat_models import ChatOpenAI\n",
    "from langchain_core.prompts import ChatPromptTemplate, MessagesPlaceholder\n",
    "from langgraph.graph import END, StateGraph, START\n",
    "import functools\n",
    "from typing import TypedDict, Annotated, Sequence\n",
    "import operator\n",
    "from langchain_core.messages import BaseMessage, HumanMessage, AIMessage\n",
    "\n",
    "from langchain.text_splitter import RecursiveCharacterTextSplitter\n",
    "from langchain_community.vectorstores import FAISS, Chroma\n",
    "from langchain_openai import OpenAIEmbeddings, ChatOpenAI\n",
    "from langchain_community.document_loaders import PyPDFLoader\n",
    "from langchain_community.vectorstores.faiss import DistanceStrategy"
   ]
  },
  {
   "cell_type": "code",
   "execution_count": 64,
   "id": "04107504-7dae-474b-9527-7427edb6dbee",
   "metadata": {},
   "outputs": [],
   "source": [
    "llm = ChatOpenAI(model=\"gpt-4\", streaming=True)"
   ]
  },
  {
   "cell_type": "code",
   "execution_count": 2,
   "id": "41021af1-837c-40af-8904-411f81b69cce",
   "metadata": {},
   "outputs": [],
   "source": [
    "os.environ[\"LANGCHAIN_TRACING_V2\"] = \"true\"\n",
    "os.environ[\"LANGCHAIN_API_KEY\"] = \"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\""
   ]
  },
  {
   "cell_type": "code",
   "execution_count": 109,
   "id": "2ebb2794-a29b-4afa-8929-35fe3dc5fdbd",
   "metadata": {},
   "outputs": [],
   "source": [
    "loader = PyPDFLoader(\"machine_learning_basics.pdf\")\n",
    "docs = loader.load()\n",
    "\n",
    "text_splitter = RecursiveCharacterTextSplitter(chunk_size=500, chunk_overlap=100)\n",
    "\n",
    "store = FAISS.from_documents(docs, OpenAIEmbeddings(), distance_strategy=DistanceStrategy.COSINE)\n",
    "\n",
    "retriever = store.as_retriever(search_kwargs={\"k\": 3})"
   ]
  },
  {
   "cell_type": "markdown",
   "id": "32920c2f-5c07-4228-8ba4-1113311a3d64",
   "metadata": {},
   "source": [
    "### Defining Agent State"
   ]
  },
  {
   "cell_type": "code",
   "execution_count": 319,
   "id": "0980863f-8164-45bf-b048-6c20f340b464",
   "metadata": {},
   "outputs": [],
   "source": [
    "class ChatMessage(object):\n",
    "\n",
    "    def __init__(self, message : BaseMessage, sender : str = None):\n",
    "\n",
    "        self.message = message\n",
    "        self.sender = sender\n",
    "\n",
    "        self.content = message.content\n",
    "\n",
    "    def __repr__(self) -> str:\n",
    "        \n",
    "        return f\"{self.sender} | {self.content}\"\n",
    "\n",
    "def reducer(a : list, b : list | str ) -> list:\n",
    "\n",
    "    if type(b) == list: \n",
    "        return a + b\n",
    "    else:\n",
    "        return a\n",
    "\n",
    "    \n",
    "class AgentState(TypedDict):\n",
    "    messages: Annotated[Sequence[ChatMessage], reducer]\n"
   ]
  },
  {
   "cell_type": "code",
   "execution_count": 313,
   "id": "acb3db71-23d8-4d38-b8cf-973185530b21",
   "metadata": {},
   "outputs": [],
   "source": [
    "USER_SYSTEM_PROMPT = \"\"\"You are a translator. Translate the text provided by the user into {user_language}. Output only the \n",
    "    translated text. If the text is already in {user_language}, return the user's text as it is.\n",
    "\"\"\"\n",
    "\n",
    "AYA_AGENT_PROMPT = \"\"\"Your name is Aya and you are an assistant that answers questions. Only respond if the question is addressed to you (Aya)!! \n",
    "If its not specifically addressed to you, respond with 'NULL'.\n",
    "    \n",
    "\n",
    "    Obey the following rules while responding : \n",
    "    1. Only use the text provided in the context to answer the question.\n",
    "    2. If you don't know the answer, just say that you don't know. \n",
    "    3. Use three sentences maximum and keep the answer concise.\n",
    "    \n",
    "    Question: {question} \n",
    "    Context: {context} \n",
    "    Answer:\n",
    "\"\"\"\n",
    "\n",
    "SUPERVISOR_AGENT_PROMPT = \"\"\"\n",
    "You are a supervisor tasked with managing the chat messages with Aya, an AI assistant. Given a chat\n",
    "message, identify whether the message was directed to Aya. If so, respond with 'Aya'. Otherwise, \n",
    "respond with 'User'\n",
    "\n",
    "Chat Message : {message}\n",
    "\"\"\"\n",
    "\n",
    "# AYA_AGENT_PROMPT = \"\"\"\n",
    "# You are an assistant and your name is Aya. Only answer questions that are addressed to you (Aya). If they are not addressed to you, just respond with \"Null\". Based on the above instructions answer the following question : \n",
    "\n",
    "# Question : {question}\n",
    "# Context : {context}\n",
    "# Answer : \n",
    "# \"\"\"\n",
    "\n",
    "\n",
    "class UserAgent(object):\n",
    "\n",
    "    def __init__(self, llm, user_language):\n",
    "        self.llm = llm\n",
    "        self.user_language = user_language\n",
    "        self.chat_history = []\n",
    "\n",
    "        system_prompt = USER_SYSTEM_PROMPT.format(user_language = user_language)\n",
    "    \n",
    "        prompt = ChatPromptTemplate.from_messages(\n",
    "            [\n",
    "                (\n",
    "                    \"system\", system_prompt,\n",
    "                ),\n",
    "                MessagesPlaceholder(variable_name = 'user_text'),\n",
    "            ]\n",
    "        )\n",
    "\n",
    "        self.chain = prompt | llm\n",
    "\n",
    "\n",
    "    def set_graph(self, graph):\n",
    "        self.graph = graph\n",
    "\n",
    "    def send_text(self,text):\n",
    "\n",
    "        message = ChatMessage(message = HumanMessage(content=text), sender = self.user_language)\n",
    "\n",
    "        inputs = {\"messages\": [message]}\n",
    "        output = self.graph.invoke(inputs)\n",
    "        \n",
    "        return output\n",
    "\n",
    "    def display_chat_history(self):\n",
    "\n",
    "        for i in self.chat_history:\n",
    "            print(i)\n",
    "\n",
    "    \n",
    "    def invoke(self, user_text:str):\n",
    "\n",
    "        output = self.chain.invoke({'user_text':[user_text]})\n",
    "\n",
    "        return output\n",
    "            \n",
    "\n",
    "\n",
    "def format_docs(docs):\n",
    "    return \"\\n\\n ------------\".join(doc.page_content for doc in docs)\n",
    "    \n",
    "class AyaAgent(object):\n",
    "\n",
    "    def __init__(self, llm, retriever):\n",
    "\n",
    "        self.llm = llm\n",
    "        self.retriever = retriever\n",
    "\n",
    "        qa_prompt = ChatPromptTemplate.from_template(AYA_AGENT_PROMPT)\n",
    "\n",
    "        self.chain = qa_prompt | llm \n",
    "\n",
    "    def invoke(self, question : str) -> AIMessage:\n",
    "\n",
    "        print(\"Within aya agent\")\n",
    "        print(question)\n",
    "\n",
    "        context = format_docs(self.retriever.invoke(question))\n",
    "        rag_output = self.chain.invoke({'question':question, 'context':context})\n",
    "        answer = rag_output\n",
    "\n",
    "        return answer\n",
    "          \n",
    "class SupervisorAgent(object):\n",
    "\n",
    "    def __init__(self):\n",
    "\n",
    "        prompt = ChatPromptTemplate.from_template(SUPERVISOR_AGENT_PROMPT)\n",
    "    \n",
    "        self.chain = prompt | llm\n",
    "\n",
    "    def invoke(self, message : str) -> str:\n",
    "\n",
    "        print(\"Within supervisor agent\")\n",
    "        print(message)\n",
    "\n",
    "        output = self.chain.invoke(message)\n",
    "        \n",
    "        return output.content\n",
    "    \n",
    "       \n",
    "\n",
    "        \n"
   ]
  },
  {
   "cell_type": "code",
   "execution_count": 314,
   "id": "b3d9df60-fc24-46e3-a1c3-919dd2930405",
   "metadata": {},
   "outputs": [],
   "source": [
    "french_agent = UserAgent(llm, \"French\")\n",
    "spanish_agent = UserAgent(llm, \"Spanish\")\n",
    "english_agent = UserAgent(llm, \"English\")\n",
    "\n",
    "aya_agent = AyaAgent(llm, retriever)\n",
    "\n",
    "supervisor_agent = SupervisorAgent()"
   ]
  },
  {
   "cell_type": "code",
   "execution_count": 270,
   "id": "542551a8-8fea-4bc8-8d6e-9c762a9a6246",
   "metadata": {},
   "outputs": [
    {
     "name": "stdout",
     "output_type": "stream",
     "text": [
      "Within supervisor agent\n",
      "Aya, whats the capital of India?\n"
     ]
    },
    {
     "data": {
      "text/plain": [
       "'Aya'"
      ]
     },
     "execution_count": 270,
     "metadata": {},
     "output_type": "execute_result"
    }
   ],
   "source": [
    "supervisor_agent.invoke(\"Aya, whats the capital of India?\")"
   ]
  },
  {
   "cell_type": "code",
   "execution_count": 299,
   "id": "360c6ac9-27fb-457c-972d-7ae57f33f7dd",
   "metadata": {},
   "outputs": [
    {
     "name": "stdout",
     "output_type": "stream",
     "text": [
      "Within aya agent\n",
      "When was SVM invented?\n"
     ]
    },
    {
     "data": {
      "text/plain": [
       "'Support Vector Machines (SVMs) were invented by researchers at AT&T in 1992.'"
      ]
     },
     "execution_count": 299,
     "metadata": {},
     "output_type": "execute_result"
    }
   ],
   "source": [
    "aya_agent.invoke(\"Aya, When was SVM invented?\")"
   ]
  },
  {
   "cell_type": "markdown",
   "id": "4eb507cc-9991-44dd-9bce-5efc0cf94902",
   "metadata": {},
   "source": [
    "### Defining Agent Nodes"
   ]
  },
  {
   "cell_type": "code",
   "execution_count": 335,
   "id": "0f0cea0a-da99-4143-aba5-a41dcabd7a4b",
   "metadata": {},
   "outputs": [],
   "source": [
    "def get_aya_node(state, agent, name):\n",
    "\n",
    "    print(\"In Aya node\")\n",
    "\n",
    "    latest_message = state[\"messages\"][-1]\n",
    "    print(latest_message)\n",
    "\n",
    "    supervisor_agent = SupervisorAgent()\n",
    "    \n",
    "    agent_check = supervisor_agent.invoke(latest_message.content)\n",
    "\n",
    "    if agent_check == 'Aya':\n",
    "        print(\"Agent check is Aya\")\n",
    "\n",
    "        result = agent.invoke(latest_message.content)\n",
    "\n",
    "        return {\n",
    "        'messages' : [ChatMessage(result, sender = 'Aya')]\n",
    "    }\n",
    "                              \n",
    "    else:\n",
    "        print(\"Agent check is NULL\")\n",
    "        return {'messages':[]}\n",
    "        \n",
    "\n",
    "def get_user_node(state, agent, name):\n",
    "    print(\"In User node\")\n",
    "    \n",
    "\n",
    "    latest_message = state[\"messages\"][-1]\n",
    "    print(latest_message)\n",
    "\n",
    "    result = agent.invoke(latest_message.message)\n",
    "    \n",
    "    agent.chat_history.append(result.content)\n",
    "\n",
    "    return {\n",
    "        \"messages\": [ChatMessage(result, sender = name)],\n",
    "        \n",
    "    }\n",
    "\n",
    "def get_supervisor_node(state, agent : SupervisorAgent):\n",
    "\n",
    "    print(\"In supervisor node\")\n",
    "    latest_message = state[\"messages\"][-1]\n",
    "    print(latest_message)\n",
    "\n",
    "    \n",
    "    \n",
    "\n",
    "    # result = agent.invoke(latest_message.content)\n",
    "\n",
    "    # print(result)\n",
    "\n",
    "    return {'messages': []} \n",
    "\n",
    "french_node = functools.partial(get_user_node, agent=french_agent, name=\"French\")\n",
    "spanish_node = functools.partial(get_user_node, agent=spanish_agent, name=\"Spanish\")\n",
    "english_node = functools.partial(get_user_node, agent=english_agent, name=\"English\")\n",
    "\n",
    "aya_node = functools.partial(get_aya_node, agent = aya_agent, name =\"Aya\")\n",
    "\n",
    "supervisor_node = functools.partial(get_supervisor_node, agent = supervisor_agent)"
   ]
  },
  {
   "cell_type": "code",
   "execution_count": 336,
   "id": "3a226a48-e677-4a0a-9bd6-f4645b995c61",
   "metadata": {},
   "outputs": [],
   "source": [
    "workflow = StateGraph(AgentState)\n",
    "\n",
    "# agentList = {'French':{'node':french_node, 'agent':french_agent},\n",
    "#                    'Spanish':{'node':spanish_node, 'agent':spanish_agent},\n",
    "#                    'English':{'node':english_node, 'agent':english_agent},\n",
    "#                    }\n",
    "\n",
    "agentList = {\n",
    "                   'English':{'node':english_node, 'agent':english_agent},\n",
    "                   }\n",
    "                  \n",
    "\n",
    "#Defining nodes\n",
    "for agent in agentList:\n",
    "    workflow.add_node(agent, agentList[agent]['node'])\n",
    "\n",
    "workflow.add_node(\"Supervisor\", supervisor_node)\n",
    "\n",
    "#Defining edges\n",
    "workflow.add_edge(START, \"Supervisor\")\n",
    "\n",
    "for agent in agentList:\n",
    "    workflow.add_edge(\"Supervisor\", agent)\n",
    "    workflow.add_edge(agent, END)\n",
    "\n",
    "\n",
    "workflow.add_node(\"Aya\",aya_node) \n",
    "\n",
    "workflow.add_edge(\"Supervisor\",\"Aya\")\n",
    "\n",
    "def router2(state) :\n",
    "    print(\"Within router\")\n",
    "    \n",
    "    last_message = state[\"messages\"][-1]\n",
    "    if last_message.sender == \"Aya\":\n",
    "        return \"END\"\n",
    "    else:\n",
    "        return 'Aya'\n",
    "\n",
    "workflow.add_conditional_edges(\"Supervisor\", router2  ,{'Aya':'Aya','END':END})\n",
    "\n",
    "def router(state) :\n",
    "    print(\"Within router\")\n",
    "    \n",
    "    last_message = state[\"messages\"][-1]\n",
    "    if last_message.sender == \"Aya\":\n",
    "        print(\"\")\n",
    "        return \"Supervisor\"\n",
    "    else:\n",
    "        return 'END'\n",
    "        \n",
    "workflow.add_conditional_edges(\"Aya\", router, {'Supervisor':'Supervisor','END':END})\n",
    "   \n",
    "# supervisor_router = functools.partial(router, agent = supervisor_agent)\n",
    "\n",
    "# workflow.add_conditional_edges(\"Supervisor\", supervisor_router, {\"Aya\": \"Aya\", \"skip\": END})\n",
    "\n",
    "\n",
    "app = workflow.compile()\n",
    "\n",
    "french_agent.set_graph(app)\n",
    "spanish_agent.set_graph(app)\n",
    "english_agent.set_graph(app)"
   ]
  },
  {
   "cell_type": "code",
   "execution_count": 339,
   "id": "9b55694e-6503-49ec-b4ef-e0e43925c457",
   "metadata": {},
   "outputs": [
    {
     "name": "stdout",
     "output_type": "stream",
     "text": [
      "In supervisor node\n",
      "English | Aya, when was SVM invented?\n",
      "Within router\n",
      "In User node\n",
      "English | Aya, when was SVM invented?\n",
      "In Aya node\n",
      "English | Aya, when was SVM invented?\n",
      "Within supervisor agent\n",
      "Aya, when was SVM invented?\n",
      "Agent check is Aya\n",
      "Within aya agent\n",
      "Aya, when was SVM invented?\n",
      "Within router\n",
      "\n",
      "In supervisor node\n",
      "Aya | Support Vector Machines (SVMs) were invented by researchers at AT&T in 1992.\n",
      "Within router\n",
      "In User node\n",
      "Aya | Support Vector Machines (SVMs) were invented by researchers at AT&T in 1992.\n",
      "In Aya node\n",
      "Aya | Support Vector Machines (SVMs) were invented by researchers at AT&T in 1992.\n",
      "Within supervisor agent\n",
      "Support Vector Machines (SVMs) were invented by researchers at AT&T in 1992.\n",
      "Agent check is NULL\n",
      "Within router\n",
      "\n",
      "In supervisor node\n",
      "English | Support Vector Machines (SVMs) were invented by researchers at AT&T in 1992.\n",
      "Within router\n",
      "In User node\n",
      "English | Support Vector Machines (SVMs) were invented by researchers at AT&T in 1992.\n",
      "In Aya node\n",
      "English | Support Vector Machines (SVMs) were invented by researchers at AT&T in 1992.\n",
      "Within supervisor agent\n",
      "Support Vector Machines (SVMs) were invented by researchers at AT&T in 1992.\n",
      "Agent check is NULL\n",
      "Within router\n"
     ]
    },
    {
     "data": {
      "text/plain": [
       "{'messages': [English | Aya, when was SVM invented?,\n",
       "  English | Aya, when was SVM invented?,\n",
       "  Aya | Support Vector Machines (SVMs) were invented by researchers at AT&T in 1992.,\n",
       "  English | Support Vector Machines (SVMs) were invented by researchers at AT&T in 1992.,\n",
       "  English | Support Vector Machines (SVMs) were invented by researchers at AT&T in 1992.]}"
      ]
     },
     "execution_count": 339,
     "metadata": {},
     "output_type": "execute_result"
    }
   ],
   "source": [
    "english_agent.send_text(\"Aya, when was SVM invented?\")"
   ]
  },
  {
   "cell_type": "code",
   "execution_count": 318,
   "id": "264617cc-97fb-443e-b41e-ebe458c4c8f3",
   "metadata": {},
   "outputs": [
    {
     "data": {
      "image/jpeg": "[encoded data removed]",
      "text/plain": [
       "<IPython.core.display.Image object>"
      ]
     },
     "metadata": {},
     "output_type": "display_data"
    }
   ],
   "source": [
    "from IPython.display import Image, display\n",
    "from langchain_core.runnables.graph import CurveStyle, MermaidDrawMethod, NodeColors\n",
    "\n",
    "display(\n",
    "    Image(\n",
    "        app.get_graph().draw_mermaid_png(\n",
    "            draw_method=MermaidDrawMethod.API,\n",
    "        )\n",
    "    )\n",
    ")"
   ]
  },
  {
   "cell_type": "code",
   "execution_count": 267,
   "id": "145d02eb-f113-41bd-9042-e17f1841da3e",
   "metadata": {
    "scrolled": true
   },
   "outputs": [
    {
     "name": "stdout",
     "output_type": "stream",
     "text": [
      "In supervisor node\n",
      "{'messages': [Aya, whats the capital of India?]}\n",
      "Within supervisor agent\n",
      "Aya, whats the capital of India?\n",
      "content='Aya' response_metadata={'finish_reason': 'stop'} id='run-066390f9-3263-4d81-ac71-cd324928c1c6-0'\n",
      "Within supervisor agent\n",
      "Aya, whats the capital of India?\n",
      "In User nodeIn User node\n",
      "{'messages': [Aya, whats the capital of India?]}\n",
      "\n",
      "{'messages': [Aya, whats the capital of India?]}\n",
      "In User node\n",
      "{'messages': [Aya, whats the capital of India?]}\n",
      "In supervisor node\n",
      "{'messages': [Aya, whats the capital of India?, Aya, quelle est la capitale de l'Inde?, Aya, ¿cuál es la capital de India?, Aya, what's the capital of India?]}\n",
      "Within supervisor agent\n",
      "Aya, what's the capital of India?\n",
      "content='Aya' response_metadata={'finish_reason': 'stop'} id='run-f755b329-bd1d-4795-bb4b-b87fbe46ffdf-0'\n",
      "Within supervisor agent\n",
      "Aya, what's the capital of India?\n",
      "In User nodeIn User node\n",
      "{'messages': [Aya, whats the capital of India?, Aya, quelle est la capitale de l'Inde?, Aya, ¿cuál es la capital de India?, Aya, what's the capital of India?]}\n",
      "\n",
      "{'messages': [Aya, whats the capital of India?, Aya, quelle est la capitale de l'Inde?, Aya, ¿cuál es la capital de India?, Aya, what's the capital of India?]}\n",
      "In User node\n",
      "{'messages': [Aya, whats the capital of India?, Aya, quelle est la capitale de l'Inde?, Aya, ¿cuál es la capital de India?, Aya, what's the capital of India?]}\n",
      "In supervisor node\n",
      "{'messages': [Aya, whats the capital of India?, Aya, quelle est la capitale de l'Inde?, Aya, ¿cuál es la capital de India?, Aya, what's the capital of India?, Aya, quelle est la capitale de l'Inde?, Aya, ¿cuál es la capital de India?, Aya, what's the capital of India?]}\n",
      "Within supervisor agent\n",
      "Aya, what's the capital of India?\n",
      "content='Aya' response_metadata={'finish_reason': 'stop'} id='run-4679f931-8312-4e08-ac06-b20c060b7492-0'\n",
      "Within supervisor agent\n",
      "Aya, what's the capital of India?\n",
      "In User nodeIn User node\n",
      "{'messages': [Aya, whats the capital of India?, Aya, quelle est la capitale de l'Inde?, Aya, ¿cuál es la capital de India?, Aya, what's the capital of India?, Aya, quelle est la capitale de l'Inde?, Aya, ¿cuál es la capital de India?, Aya, what's the capital of India?]}\n",
      "In User node\n",
      "{'messages': [Aya, whats the capital of India?, Aya, quelle est la capitale de l'Inde?, Aya, ¿cuál es la capital de India?, Aya, what's the capital of India?, Aya, quelle est la capitale de l'Inde?, Aya, ¿cuál es la capital de India?, Aya, what's the capital of India?]}\n",
      "\n",
      "{'messages': [Aya, whats the capital of India?, Aya, quelle est la capitale de l'Inde?, Aya, ¿cuál es la capital de India?, Aya, what's the capital of India?, Aya, quelle est la capitale de l'Inde?, Aya, ¿cuál es la capital de India?, Aya, what's the capital of India?]}\n",
      "In supervisor node\n",
      "{'messages': [Aya, whats the capital of India?, Aya, quelle est la capitale de l'Inde?, Aya, ¿cuál es la capital de India?, Aya, what's the capital of India?, Aya, quelle est la capitale de l'Inde?, Aya, ¿cuál es la capital de India?, Aya, what's the capital of India?, Aya, quelle est la capitale de l'Inde?, Aya, ¿cuál es la capital de India?, Aya, what's the capital of India?]}\n",
      "Within supervisor agent\n",
      "Aya, what's the capital of India?\n",
      "content='Aya' response_metadata={'finish_reason': 'stop'} id='run-6d963f63-b8c1-4b36-a545-3ec587e6f102-0'\n",
      "Within supervisor agent\n",
      "Aya, what's the capital of India?\n",
      "In User nodeIn User node\n",
      "{'messages': [Aya, whats the capital of India?, Aya, quelle est la capitale de l'Inde?, Aya, ¿cuál es la capital de India?, Aya, what's the capital of India?, Aya, quelle est la capitale de l'Inde?, Aya, ¿cuál es la capital de India?, Aya, what's the capital of India?, Aya, quelle est la capitale de l'Inde?, Aya, ¿cuál es la capital de India?, Aya, what's the capital of India?]}\n",
      "\n",
      "{'messages': [Aya, whats the capital of India?, Aya, quelle est la capitale de l'Inde?, Aya, ¿cuál es la capital de India?, Aya, what's the capital of India?, Aya, quelle est la capitale de l'Inde?, Aya, ¿cuál es la capital de India?, Aya, what's the capital of India?, Aya, quelle est la capitale de l'Inde?, Aya, ¿cuál es la capital de India?, Aya, what's the capital of India?]}\n",
      "In User node\n",
      "{'messages': [Aya, whats the capital of India?, Aya, quelle est la capitale de l'Inde?, Aya, ¿cuál es la capital de India?, Aya, what's the capital of India?, Aya, quelle est la capitale de l'Inde?, Aya, ¿cuál es la capital de India?, Aya, what's the capital of India?, Aya, quelle est la capitale de l'Inde?, Aya, ¿cuál es la capital de India?, Aya, what's the capital of India?]}\n",
      "In supervisor node\n",
      "{'messages': [Aya, whats the capital of India?, Aya, quelle est la capitale de l'Inde?, Aya, ¿cuál es la capital de India?, Aya, what's the capital of India?, Aya, quelle est la capitale de l'Inde?, Aya, ¿cuál es la capital de India?, Aya, what's the capital of India?, Aya, quelle est la capitale de l'Inde?, Aya, ¿cuál es la capital de India?, Aya, what's the capital of India?, Aya, quelle est la capitale de l'Inde?, Aya, ¿cuál es la capital de India?, Aya, what's the capital of India?]}\n",
      "Within supervisor agent\n",
      "Aya, what's the capital of India?\n",
      "content='Aya' response_metadata={'finish_reason': 'stop'} id='run-669d49c9-6484-4ab0-bdd5-9a01b2a746a4-0'\n",
      "Within supervisor agent\n",
      "Aya, what's the capital of India?\n"
     ]
    },
    {
     "ename": "KeyboardInterrupt",
     "evalue": "",
     "output_type": "error",
     "traceback": [
      "\u001b[0;31m---------------------------------------------------------------------------\u001b[0m",
      "\u001b[0;31mKeyboardInterrupt\u001b[0m                         Traceback (most recent call last)",
      "Cell \u001b[0;32mIn[267], line 1\u001b[0m\n\u001b[0;32m----> 1\u001b[0m \u001b[43menglish_agent\u001b[49m\u001b[38;5;241;43m.\u001b[39;49m\u001b[43msend_text\u001b[49m\u001b[43m(\u001b[49m\u001b[38;5;124;43m\"\u001b[39;49m\u001b[38;5;124;43mAya, whats the capital of India?\u001b[39;49m\u001b[38;5;124;43m\"\u001b[39;49m\u001b[43m)\u001b[49m\n",
      "Cell \u001b[0;32mIn[242], line 65\u001b[0m, in \u001b[0;36mUserAgent.send_text\u001b[0;34m(self, text)\u001b[0m\n\u001b[1;32m     62\u001b[0m message \u001b[38;5;241m=\u001b[39m ChatMessage(message \u001b[38;5;241m=\u001b[39m HumanMessage(content\u001b[38;5;241m=\u001b[39mtext), sender \u001b[38;5;241m=\u001b[39m \u001b[38;5;28mself\u001b[39m\u001b[38;5;241m.\u001b[39muser_language)\n\u001b[1;32m     64\u001b[0m inputs \u001b[38;5;241m=\u001b[39m {\u001b[38;5;124m\"\u001b[39m\u001b[38;5;124mmessages\u001b[39m\u001b[38;5;124m\"\u001b[39m: [message]}\n\u001b[0;32m---> 65\u001b[0m output \u001b[38;5;241m=\u001b[39m \u001b[38;5;28;43mself\u001b[39;49m\u001b[38;5;241;43m.\u001b[39;49m\u001b[43mgraph\u001b[49m\u001b[38;5;241;43m.\u001b[39;49m\u001b[43minvoke\u001b[49m\u001b[43m(\u001b[49m\u001b[43minputs\u001b[49m\u001b[43m)\u001b[49m\n\u001b[1;32m     67\u001b[0m \u001b[38;5;28;01mreturn\u001b[39;00m output\n",
      "File \u001b[0;32m~/base/lib/python3.11/site-packages/langgraph/pregel/__init__.py:1333\u001b[0m, in \u001b[0;36mPregel.invoke\u001b[0;34m(self, input, config, stream_mode, output_keys, input_keys, interrupt_before, interrupt_after, debug, **kwargs)\u001b[0m\n\u001b[1;32m   1331\u001b[0m \u001b[38;5;28;01melse\u001b[39;00m:\n\u001b[1;32m   1332\u001b[0m     chunks \u001b[38;5;241m=\u001b[39m []\n\u001b[0;32m-> 1333\u001b[0m \u001b[43m\u001b[49m\u001b[38;5;28;43;01mfor\u001b[39;49;00m\u001b[43m \u001b[49m\u001b[43mchunk\u001b[49m\u001b[43m \u001b[49m\u001b[38;5;129;43;01min\u001b[39;49;00m\u001b[43m \u001b[49m\u001b[38;5;28;43mself\u001b[39;49m\u001b[38;5;241;43m.\u001b[39;49m\u001b[43mstream\u001b[49m\u001b[43m(\u001b[49m\n\u001b[1;32m   1334\u001b[0m \u001b[43m    \u001b[49m\u001b[38;5;28;43minput\u001b[39;49m\u001b[43m,\u001b[49m\n\u001b[1;32m   1335\u001b[0m \u001b[43m    \u001b[49m\u001b[43mconfig\u001b[49m\u001b[43m,\u001b[49m\n\u001b[1;32m   1336\u001b[0m \u001b[43m    \u001b[49m\u001b[43mstream_mode\u001b[49m\u001b[38;5;241;43m=\u001b[39;49m\u001b[43mstream_mode\u001b[49m\u001b[43m,\u001b[49m\n\u001b[1;32m   1337\u001b[0m \u001b[43m    \u001b[49m\u001b[43moutput_keys\u001b[49m\u001b[38;5;241;43m=\u001b[39;49m\u001b[43moutput_keys\u001b[49m\u001b[43m,\u001b[49m\n\u001b[1;32m   1338\u001b[0m \u001b[43m    \u001b[49m\u001b[43minput_keys\u001b[49m\u001b[38;5;241;43m=\u001b[39;49m\u001b[43minput_keys\u001b[49m\u001b[43m,\u001b[49m\n\u001b[1;32m   1339\u001b[0m \u001b[43m    \u001b[49m\u001b[43minterrupt_before\u001b[49m\u001b[38;5;241;43m=\u001b[39;49m\u001b[43minterrupt_before\u001b[49m\u001b[43m,\u001b[49m\n\u001b[1;32m   1340\u001b[0m \u001b[43m    \u001b[49m\u001b[43minterrupt_after\u001b[49m\u001b[38;5;241;43m=\u001b[39;49m\u001b[43minterrupt_after\u001b[49m\u001b[43m,\u001b[49m\n\u001b[1;32m   1341\u001b[0m \u001b[43m    \u001b[49m\u001b[43mdebug\u001b[49m\u001b[38;5;241;43m=\u001b[39;49m\u001b[43mdebug\u001b[49m\u001b[43m,\u001b[49m\n\u001b[1;32m   1342\u001b[0m \u001b[43m    \u001b[49m\u001b[38;5;241;43m*\u001b[39;49m\u001b[38;5;241;43m*\u001b[39;49m\u001b[43mkwargs\u001b[49m\u001b[43m,\u001b[49m\n\u001b[1;32m   1343\u001b[0m \u001b[43m\u001b[49m\u001b[43m)\u001b[49m\u001b[43m:\u001b[49m\n\u001b[1;32m   1344\u001b[0m \u001b[43m    \u001b[49m\u001b[38;5;28;43;01mif\u001b[39;49;00m\u001b[43m \u001b[49m\u001b[43mstream_mode\u001b[49m\u001b[43m \u001b[49m\u001b[38;5;241;43m==\u001b[39;49m\u001b[43m \u001b[49m\u001b[38;5;124;43m\"\u001b[39;49m\u001b[38;5;124;43mvalues\u001b[39;49m\u001b[38;5;124;43m\"\u001b[39;49m\u001b[43m:\u001b[49m\n\u001b[1;32m   1345\u001b[0m \u001b[43m        \u001b[49m\u001b[43mlatest\u001b[49m\u001b[43m \u001b[49m\u001b[38;5;241;43m=\u001b[39;49m\u001b[43m \u001b[49m\u001b[43mchunk\u001b[49m\n",
      "File \u001b[0;32m~/base/lib/python3.11/site-packages/langgraph/pregel/__init__.py:869\u001b[0m, in \u001b[0;36mPregel.stream\u001b[0;34m(self, input, config, stream_mode, output_keys, input_keys, interrupt_before, interrupt_after, debug)\u001b[0m\n\u001b[1;32m    862\u001b[0m futures \u001b[38;5;241m=\u001b[39m [\n\u001b[1;32m    863\u001b[0m     executor\u001b[38;5;241m.\u001b[39msubmit(run_with_retry, task, \u001b[38;5;28mself\u001b[39m\u001b[38;5;241m.\u001b[39mretry_policy)\n\u001b[1;32m    864\u001b[0m     \u001b[38;5;28;01mfor\u001b[39;00m task \u001b[38;5;129;01min\u001b[39;00m next_tasks\n\u001b[1;32m    865\u001b[0m ]\n\u001b[1;32m    867\u001b[0m \u001b[38;5;66;03m# execute tasks, and wait for one to fail or all to finish.\u001b[39;00m\n\u001b[1;32m    868\u001b[0m \u001b[38;5;66;03m# each task is independent from all other concurrent tasks\u001b[39;00m\n\u001b[0;32m--> 869\u001b[0m done, inflight \u001b[38;5;241m=\u001b[39m \u001b[43mconcurrent\u001b[49m\u001b[38;5;241;43m.\u001b[39;49m\u001b[43mfutures\u001b[49m\u001b[38;5;241;43m.\u001b[39;49m\u001b[43mwait\u001b[49m\u001b[43m(\u001b[49m\n\u001b[1;32m    870\u001b[0m \u001b[43m    \u001b[49m\u001b[43mfutures\u001b[49m\u001b[43m,\u001b[49m\n\u001b[1;32m    871\u001b[0m \u001b[43m    \u001b[49m\u001b[43mreturn_when\u001b[49m\u001b[38;5;241;43m=\u001b[39;49m\u001b[43mconcurrent\u001b[49m\u001b[38;5;241;43m.\u001b[39;49m\u001b[43mfutures\u001b[49m\u001b[38;5;241;43m.\u001b[39;49m\u001b[43mFIRST_EXCEPTION\u001b[49m\u001b[43m,\u001b[49m\n\u001b[1;32m    872\u001b[0m \u001b[43m    \u001b[49m\u001b[43mtimeout\u001b[49m\u001b[38;5;241;43m=\u001b[39;49m\u001b[38;5;28;43mself\u001b[39;49m\u001b[38;5;241;43m.\u001b[39;49m\u001b[43mstep_timeout\u001b[49m\u001b[43m,\u001b[49m\n\u001b[1;32m    873\u001b[0m \u001b[43m\u001b[49m\u001b[43m)\u001b[49m\n\u001b[1;32m    875\u001b[0m \u001b[38;5;66;03m# panic on failure or timeout\u001b[39;00m\n\u001b[1;32m    876\u001b[0m _panic_or_proceed(done, inflight, step)\n",
      "File \u001b[0;32m/Library/Frameworks/Python.framework/Versions/3.11/lib/python3.11/concurrent/futures/_base.py:305\u001b[0m, in \u001b[0;36mwait\u001b[0;34m(fs, timeout, return_when)\u001b[0m\n\u001b[1;32m    301\u001b[0m         \u001b[38;5;28;01mreturn\u001b[39;00m DoneAndNotDoneFutures(done, not_done)\n\u001b[1;32m    303\u001b[0m     waiter \u001b[38;5;241m=\u001b[39m _create_and_install_waiters(fs, return_when)\n\u001b[0;32m--> 305\u001b[0m \u001b[43mwaiter\u001b[49m\u001b[38;5;241;43m.\u001b[39;49m\u001b[43mevent\u001b[49m\u001b[38;5;241;43m.\u001b[39;49m\u001b[43mwait\u001b[49m\u001b[43m(\u001b[49m\u001b[43mtimeout\u001b[49m\u001b[43m)\u001b[49m\n\u001b[1;32m    306\u001b[0m \u001b[38;5;28;01mfor\u001b[39;00m f \u001b[38;5;129;01min\u001b[39;00m fs:\n\u001b[1;32m    307\u001b[0m     \u001b[38;5;28;01mwith\u001b[39;00m f\u001b[38;5;241m.\u001b[39m_condition:\n",
      "File \u001b[0;32m/Library/Frameworks/Python.framework/Versions/3.11/lib/python3.11/threading.py:629\u001b[0m, in \u001b[0;36mEvent.wait\u001b[0;34m(self, timeout)\u001b[0m\n\u001b[1;32m    627\u001b[0m signaled \u001b[38;5;241m=\u001b[39m \u001b[38;5;28mself\u001b[39m\u001b[38;5;241m.\u001b[39m_flag\n\u001b[1;32m    628\u001b[0m \u001b[38;5;28;01mif\u001b[39;00m \u001b[38;5;129;01mnot\u001b[39;00m signaled:\n\u001b[0;32m--> 629\u001b[0m     signaled \u001b[38;5;241m=\u001b[39m \u001b[38;5;28;43mself\u001b[39;49m\u001b[38;5;241;43m.\u001b[39;49m\u001b[43m_cond\u001b[49m\u001b[38;5;241;43m.\u001b[39;49m\u001b[43mwait\u001b[49m\u001b[43m(\u001b[49m\u001b[43mtimeout\u001b[49m\u001b[43m)\u001b[49m\n\u001b[1;32m    630\u001b[0m \u001b[38;5;28;01mreturn\u001b[39;00m signaled\n",
      "File \u001b[0;32m/Library/Frameworks/Python.framework/Versions/3.11/lib/python3.11/threading.py:327\u001b[0m, in \u001b[0;36mCondition.wait\u001b[0;34m(self, timeout)\u001b[0m\n\u001b[1;32m    325\u001b[0m \u001b[38;5;28;01mtry\u001b[39;00m:    \u001b[38;5;66;03m# restore state no matter what (e.g., KeyboardInterrupt)\u001b[39;00m\n\u001b[1;32m    326\u001b[0m     \u001b[38;5;28;01mif\u001b[39;00m timeout \u001b[38;5;129;01mis\u001b[39;00m \u001b[38;5;28;01mNone\u001b[39;00m:\n\u001b[0;32m--> 327\u001b[0m         \u001b[43mwaiter\u001b[49m\u001b[38;5;241;43m.\u001b[39;49m\u001b[43macquire\u001b[49m\u001b[43m(\u001b[49m\u001b[43m)\u001b[49m\n\u001b[1;32m    328\u001b[0m         gotit \u001b[38;5;241m=\u001b[39m \u001b[38;5;28;01mTrue\u001b[39;00m\n\u001b[1;32m    329\u001b[0m     \u001b[38;5;28;01melse\u001b[39;00m:\n",
      "\u001b[0;31mKeyboardInterrupt\u001b[0m: "
     ]
    }
   ],
   "source": []
  },
  {
   "cell_type": "code",
   "execution_count": 246,
   "id": "b1f2c1fd-4489-416d-8fe4-7cfda5bccec0",
   "metadata": {},
   "outputs": [
    {
     "name": "stdout",
     "output_type": "stream",
     "text": [
      "In supervisor\n",
      "{'messages': [hey there!]}\n",
      "<class 'dict'>\n",
      "Within supervisor agent\n",
      "hey there!\n",
      "In UserIn User\n",
      "{'messages': [hey there!]}\n",
      "hey there!\n",
      "In User\n",
      "{'messages': [hey there!]}\n",
      "hey there!\n",
      "\n",
      "{'messages': [hey there!]}\n",
      "hey there!\n"
     ]
    },
    {
     "data": {
      "text/plain": [
       "{'messages': [hey there!, salut là-bas!, ¡Hola!, hey there!]}"
      ]
     },
     "execution_count": 246,
     "metadata": {},
     "output_type": "execute_result"
    }
   ],
   "source": [
    "english_agent.send_text(\"hey there!\")"
   ]
  },
  {
   "cell_type": "code",
   "execution_count": 247,
   "id": "1ad3f7c0-af4c-4c30-baf6-a09d98b4d648",
   "metadata": {},
   "outputs": [
    {
     "name": "stdout",
     "output_type": "stream",
     "text": [
      "In supervisor\n",
      "{'messages': [How are you?]}\n",
      "<class 'dict'>\n",
      "Within supervisor agent\n",
      "How are you?\n",
      "In UserIn User\n",
      "{'messages': [How are you?]}\n",
      "How are you?\n",
      "\n",
      "{'messages': [How are you?]}\n",
      "How are you?\n",
      "In User\n",
      "{'messages': [How are you?]}\n",
      "How are you?\n"
     ]
    },
    {
     "data": {
      "text/plain": [
       "{'messages': [How are you?, Comment ça va ?, ¿Cómo estás?, How are you?]}"
      ]
     },
     "execution_count": 247,
     "metadata": {},
     "output_type": "execute_result"
    }
   ],
   "source": [
    "english_agent.send_text(\"How are you?\")"
   ]
  },
  {
   "cell_type": "code",
   "execution_count": 40,
   "id": "0d3c0ea8-3869-4e2b-bb19-feffef27d8a9",
   "metadata": {},
   "outputs": [
    {
     "name": "stdout",
     "output_type": "stream",
     "text": [
      "in supervisor\n",
      "{'messages': [HumanMessage(content='lo estoy haciendo bien. ¿Y tú?')], 'sender': None}\n",
      "content='lo estoy haciendo bien. ¿Y tú?'\n",
      "content='lo estoy haciendo bien. ¿Y tú?'\n",
      "content='lo estoy haciendo bien. ¿Y tú?'\n"
     ]
    },
    {
     "data": {
      "text/plain": [
       "{'messages': [HumanMessage(content='lo estoy haciendo bien. ¿Y tú?'),\n",
       "  AIMessage(content='Je le fais bien. Et toi?', response_metadata={'finish_reason': 'stop'}, id='run-0404cc91-b7fc-465a-bba7-c635dcb1a817-0'),\n",
       "  AIMessage(content=\"I'm doing well. And you?\", response_metadata={'finish_reason': 'stop'}, id='run-691655aa-49bf-4fd4-b472-8293f85bfb41-0'),\n",
       "  AIMessage(content=\"I'm doing well. And you?\", response_metadata={'finish_reason': 'stop'}, id='run-99668afc-8f36-49b2-8a45-a027e04729aa-0')]}"
      ]
     },
     "execution_count": 40,
     "metadata": {},
     "output_type": "execute_result"
    }
   ],
   "source": [
    "spanish_agent.send_text(\"lo estoy haciendo bien. ¿Y tú?\")"
   ]
  },
  {
   "cell_type": "code",
   "execution_count": 41,
   "id": "71096853-db56-4894-b35d-17f5bb156075",
   "metadata": {},
   "outputs": [
    {
     "name": "stdout",
     "output_type": "stream",
     "text": [
      "in supervisor\n",
      "{'messages': [HumanMessage(content=\"tu viens au bureau aujourd'hui ?\")], 'sender': None}\n",
      "content=\"tu viens au bureau aujourd'hui ?\"\n",
      "content=\"tu viens au bureau aujourd'hui ?\"\n",
      "content=\"tu viens au bureau aujourd'hui ?\"\n"
     ]
    },
    {
     "data": {
      "text/plain": [
       "{'messages': [HumanMessage(content=\"tu viens au bureau aujourd'hui ?\"),\n",
       "  AIMessage(content='Are you coming to the office today?', response_metadata={'finish_reason': 'stop'}, id='run-397fd6a5-4f28-4051-b750-53735dcf2576-0'),\n",
       "  AIMessage(content='¿Vas a venir a la oficina hoy?', response_metadata={'finish_reason': 'stop'}, id='run-15e3a62a-b7d9-4c8c-ac03-751a5907f57d-0'),\n",
       "  AIMessage(content='Are you coming to the office today?', response_metadata={'finish_reason': 'stop'}, id='run-49669e85-e1d8-4461-bc05-b0d8288a8a02-0')]}"
      ]
     },
     "execution_count": 41,
     "metadata": {},
     "output_type": "execute_result"
    }
   ],
   "source": [
    "french_agent.send_text(\"tu viens au bureau aujourd'hui ?\")"
   ]
  },
  {
   "cell_type": "code",
   "execution_count": 248,
   "id": "7fdc4267-47ff-43e1-9b7b-faf1ebe649e9",
   "metadata": {},
   "outputs": [
    {
     "name": "stdout",
     "output_type": "stream",
     "text": [
      "¡Hola!\n",
      "¿Cómo estás?\n"
     ]
    }
   ],
   "source": [
    "spanish_agent.display_chat_history()"
   ]
  },
  {
   "cell_type": "code",
   "execution_count": 338,
   "id": "f9f6d94a-754e-4818-b068-f86a9abc1343",
   "metadata": {},
   "outputs": [
    {
     "name": "stdout",
     "output_type": "stream",
     "text": [
      "Aya, what's the capital of India?\n",
      "I'm sorry, but you didn't provide any text to translate.\n",
      "I'm sorry, but you didn't provide any text to translate.\n",
      "Hey, what's the capital of India?\n",
      "I'm sorry, but you didn't provide any text to translate.\n",
      "I'm sorry, but you didn't provide any text to translate.\n",
      "Aya, what's the capital of India?\n",
      "I don't know.\n",
      "I don't know.\n",
      "Aya, what's the capital of India?\n",
      "I don't know.\n",
      "I don't know.\n"
     ]
    }
   ],
   "source": [
    "english_agent.display_chat_history()"
   ]
  },
  {
   "cell_type": "code",
   "execution_count": 250,
   "id": "8effb61b-c11e-4da5-a6c0-d6905f93b253",
   "metadata": {},
   "outputs": [
    {
     "name": "stdout",
     "output_type": "stream",
     "text": [
      "salut là-bas!\n",
      "Comment ça va ?\n"
     ]
    }
   ],
   "source": [
    "french_agent.display_chat_history()"
   ]
  },
  {
   "cell_type": "code",
   "execution_count": null,
   "id": "6c289323-18ae-46f0-90c6-cfed07039697",
   "metadata": {},
   "outputs": [],
   "source": []
  },
  {
   "cell_type": "code",
   "execution_count": null,
   "id": "ea6f7b86-ec25-422c-92f8-5b789d3d84b6",
   "metadata": {},
   "outputs": [],
   "source": [
    "prompt = ChatPromptTemplate.from_messages(\n",
    "        [\n",
    "            (\n",
    "                \"system\", system_prompt,\n",
    "            ),\n",
    "            \n",
    "        ]\n",
    "    )"
   ]
  },
  {
   "cell_type": "code",
   "execution_count": 45,
   "id": "366bb9fc-027e-496c-b0bc-942482fc0f69",
   "metadata": {},
   "outputs": [],
   "source": [
    "USER_SYSTEM_PROMPT = \"\"\"You are a translator that translates text to French. Translate the text provided by the user into French. Output only the \n",
    "    translated text. If the text is already in French, do not translate and return the user's text as it is!.\n",
    "\"\"\""
   ]
  },
  {
   "cell_type": "code",
   "execution_count": 59,
   "id": "073beb14-68d6-4de8-817a-2d0948c03561",
   "metadata": {},
   "outputs": [],
   "source": [
    "prompt = ChatPromptTemplate.from_messages(\n",
    "        [\n",
    "            (\n",
    "                \"system\", USER_SYSTEM_PROMPT,\n",
    "            ),\n",
    "            MessagesPlaceholder(variable_name = 'user_text'),\n",
    "            \n",
    "        ]\n",
    "    )"
   ]
  },
  {
   "cell_type": "code",
   "execution_count": 60,
   "id": "9683c251-77e1-42a5-b2b7-7a0bea6ee459",
   "metadata": {},
   "outputs": [],
   "source": [
    "chain = prompt | llm"
   ]
  },
  {
   "cell_type": "code",
   "execution_count": 61,
   "id": "0ccea298-26f0-43ab-8345-304529347cde",
   "metadata": {},
   "outputs": [
    {
     "data": {
      "text/plain": [
       "AIMessage(content=\"tu viens au bureau aujourd'hui ?\", response_metadata={'finish_reason': 'stop'}, id='run-7b3c0fff-0891-406c-8d68-b02d9ed25206-0')"
      ]
     },
     "execution_count": 61,
     "metadata": {},
     "output_type": "execute_result"
    }
   ],
   "source": [
    "chain.invoke({'user_text':[\"tu viens au bureau aujourd'hui ?\"]})"
   ]
  },
  {
   "cell_type": "code",
   "execution_count": null,
   "id": "41d6bc15-fb05-40de-ae39-b408fa324822",
   "metadata": {},
   "outputs": [],
   "source": []
  },
  {
   "cell_type": "code",
   "execution_count": 53,
   "id": "a747ad2c-2ac0-4189-9b95-d23b7e0f3d02",
   "metadata": {},
   "outputs": [],
   "source": [
    "prompt = ChatPromptTemplate.from_messages(\n",
    "        [\n",
    "            (\n",
    "                \"system\", \"You are a helpful AI assistant. Try to answer the users query to the best of your ability\",\n",
    "            ),\n",
    "            MessagesPlaceholder(variable_name = 'user_text'),\n",
    "            \n",
    "        ]\n",
    "    )"
   ]
  },
  {
   "cell_type": "code",
   "execution_count": 57,
   "id": "9ab63c38-afa7-4172-9871-629bc8b3f228",
   "metadata": {},
   "outputs": [
    {
     "data": {
      "text/plain": [
       "AIMessage(content='The text \"tu viens au bureau aujourd\\'hui ?\" is already in French.', response_metadata={'finish_reason': 'stop'}, id='run-9e6480d2-fb80-4c96-ae61-452dc222796c-0')"
      ]
     },
     "execution_count": 57,
     "metadata": {},
     "output_type": "execute_result"
    }
   ],
   "source": [
    "chain = prompt | llm\n",
    "\n",
    "llm = ChatOpenAI(model=\"gpt-4\", streaming=True)\n",
    "\n",
    "chain.invoke({'user_text':[\"\"\"Convert the following text into French. If the text is already in French, return it as it is. \n",
    "tu viens au bureau aujourd'hui ?\"\"\"]})"
   ]
  },
  {
   "cell_type": "code",
   "execution_count": 58,
   "id": "4d3bb590-aa28-4cdb-9079-67036376eb9d",
   "metadata": {},
   "outputs": [
    {
     "data": {
      "text/plain": [
       "AIMessage(content=\"tu viens au bureau aujourd'hui ?\", response_metadata={'finish_reason': 'stop'}, id='run-485b7464-5a42-4a94-acfb-5d56923d7981-0')"
      ]
     },
     "execution_count": 58,
     "metadata": {},
     "output_type": "execute_result"
    }
   ],
   "source": [
    "chain = prompt | llm\n",
    "\n",
    "chain.invoke({'user_text':[\"\"\"Convert the following text into French. \n",
    "If the text is already in French, return the original text. Return only the output text and nothing else. \n",
    "\n",
    "Text : tu viens au bureau aujourd'hui ?\"\"\"]})"
   ]
  },
  {
   "cell_type": "code",
   "execution_count": null,
   "id": "6c949c95-2de6-4ef7-9d41-f79aec1d25e7",
   "metadata": {},
   "outputs": [],
   "source": []
  }
 ],
 "metadata": {
  "kernelspec": {
   "display_name": "Python 3 (ipykernel)",
   "language": "python",
   "name": "python3"
  },
  "language_info": {
   "codemirror_mode": {
    "name": "ipython",
    "version": 3
   },
   "file_extension": ".py",
   "mimetype": "text/x-python",
   "name": "python",
   "nbconvert_exporter": "python",
   "pygments_lexer": "ipython3",
   "version": "3.11.8"
  }
 },
 "nbformat": 4,
 "nbformat_minor": 5
}
