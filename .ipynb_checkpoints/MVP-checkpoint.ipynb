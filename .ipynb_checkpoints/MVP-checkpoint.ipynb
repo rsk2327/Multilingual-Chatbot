{
 "cells": [
  {
   "cell_type": "code",
   "execution_count": 20,
   "id": "cf29666d-aca6-4164-8e5c-c345683765bd",
   "metadata": {},
   "outputs": [],
   "source": [
    "import os\n",
    "import getpass\n",
    "from langchain.agents import create_openai_functions_agent\n",
    "from langchain_openai.chat_models import ChatOpenAI\n",
    "from langchain_core.prompts import ChatPromptTemplate, MessagesPlaceholder\n",
    "\n",
    "from typing import TypedDict, Annotated, Sequence\n",
    "import operator\n",
    "from langchain_core.messages import BaseMessage"
   ]
  },
  {
   "cell_type": "code",
   "execution_count": 2,
   "id": "04107504-7dae-474b-9527-7427edb6dbee",
   "metadata": {},
   "outputs": [],
   "source": [
    "llm = ChatOpenAI(model=\"gpt-3.5-turbo-1106\", streaming=True)"
   ]
  },
  {
   "cell_type": "markdown",
   "id": "32920c2f-5c07-4228-8ba4-1113311a3d64",
   "metadata": {},
   "source": [
    "### Defining Agent State"
   ]
  },
  {
   "cell_type": "code",
   "execution_count": null,
   "id": "3e7ab32c-907e-4d68-9929-15689920f273",
   "metadata": {},
   "outputs": [],
   "source": [
    "class AgentState(TypedDict):\n",
    "    messages: Annotated[Sequence[BaseMessage], operator.add]\n",
    "    sender: str"
   ]
  },
  {
   "cell_type": "code",
   "execution_count": 31,
   "id": "acb3db71-23d8-4d38-b8cf-973185530b21",
   "metadata": {},
   "outputs": [],
   "source": [
    "USER_SYSTEM_PROMPT = \"\"\"You are a translator. Translate the text provided by the user into {user_language}. Output only the \n",
    "    translated text. If the text is already in {user_language}, return the user's text as it is.\n",
    "\"\"\"\n",
    "\n",
    "\n",
    "class UserAgent(object):\n",
    "\n",
    "    def __init__(self, llm, prompt):\n",
    "        self.llm = llm\n",
    "        self.prompt = prompt\n",
    "        self.chain = prompt | llm\n",
    "\n",
    "        self.messages = []\n",
    "\n",
    "    def invoke(self, user_text):\n",
    "\n",
    "        output = self.chain.invoke({'user_text':['What is your name?']})\n",
    "\n",
    "        return output\n",
    "            \n",
    "        \n",
    "def create_user_agent(llm, user_language):\n",
    "\n",
    "    system_prompt = USER_SYSTEM_PROMPT.format(user_language = user_language)\n",
    "    \n",
    "    prompt = ChatPromptTemplate.from_messages(\n",
    "        [\n",
    "            (\n",
    "                \"system\", system_prompt,\n",
    "            ),\n",
    "            MessagesPlaceholder(variable_name = 'user_text'),\n",
    "        ]\n",
    "    )\n",
    "\n",
    "    agent = UserAgent(llm, prompt)\n",
    "\n",
    "    return agent\n",
    "    \n",
    "    \n",
    "    "
   ]
  },
  {
   "cell_type": "code",
   "execution_count": 32,
   "id": "b4a3eb7f-03a4-49c2-8cc2-3ee81add4766",
   "metadata": {},
   "outputs": [],
   "source": [
    "from langgraph.graph import StateGraph, END"
   ]
  },
  {
   "cell_type": "code",
   "execution_count": 33,
   "id": "b3d9df60-fc24-46e3-a1c3-919dd2930405",
   "metadata": {},
   "outputs": [],
   "source": [
    "french_agent = create_user_agent(llm, \"French\")\n",
    "spanish_agent = create_user_agent(llm, \"Spanish\")"
   ]
  },
  {
   "cell_type": "code",
   "execution_count": null,
   "id": "fc6b8bcb-7ee2-40fb-9bd3-baadb49ceb91",
   "metadata": {},
   "outputs": [],
   "source": []
  },
  {
   "cell_type": "code",
   "execution_count": 34,
   "id": "c6a74716-eeff-4441-8a4c-8e0cff187c8f",
   "metadata": {},
   "outputs": [
    {
     "data": {
      "text/plain": [
       "AIMessage(content='Quel est votre nom ?', response_metadata={'finish_reason': 'stop'}, id='run-ca6ac45d-d29e-47c5-b3df-f84e9855ad6a-0')"
      ]
     },
     "execution_count": 34,
     "metadata": {},
     "output_type": "execute_result"
    }
   ],
   "source": [
    "french_agent.invoke('What is your name?')"
   ]
  },
  {
   "cell_type": "code",
   "execution_count": 18,
   "id": "5ebdde53-6ec7-420b-8e5f-ca769eed1f53",
   "metadata": {},
   "outputs": [
    {
     "data": {
      "text/plain": [
       "ChatPromptTemplate(input_variables=[], messages=[SystemMessagePromptTemplate(prompt=PromptTemplate(input_variables=[], template=\"You are a translator. Translate the text provided by the user into French. Output only the \\n    translated text. If the text is already in French, return the user's text as it is.\\n\"))])"
      ]
     },
     "execution_count": 18,
     "metadata": {},
     "output_type": "execute_result"
    }
   ],
   "source": [
    "prompt"
   ]
  },
  {
   "cell_type": "code",
   "execution_count": 22,
   "id": "798a171f-c5c9-4372-8cf1-353326766d30",
   "metadata": {},
   "outputs": [],
   "source": [
    "system_prompt = USER_SYSTEM_PROMPT.format(user_language = user_language)\n",
    "    \n",
    "prompt = ChatPromptTemplate.from_messages(\n",
    "        [\n",
    "            (\n",
    "                \"system\", system_prompt,\n",
    "            ),\n",
    "            MessagesPlaceholder(variable_name = 'user_text'),\n",
    "        ]\n",
    "    )"
   ]
  },
  {
   "cell_type": "code",
   "execution_count": 24,
   "id": "d8dbca51-8b0a-4ca2-99b8-89758aceb59c",
   "metadata": {},
   "outputs": [
    {
     "data": {
      "text/plain": [
       "ChatPromptValue(messages=[SystemMessage(content=\"You are a translator. Translate the text provided by the user into French. Output only the \\n    translated text. If the text is already in French, return the user's text as it is.\\n\"), HumanMessage(content='What is your name?')])"
      ]
     },
     "execution_count": 24,
     "metadata": {},
     "output_type": "execute_result"
    }
   ],
   "source": [
    "prompt.invoke({'user_text':['What is your name?']})"
   ]
  },
  {
   "cell_type": "code",
   "execution_count": 25,
   "id": "85d59a36-7773-489b-bfd6-4ec6d7d040c7",
   "metadata": {},
   "outputs": [],
   "source": [
    "chain = prompt | llm"
   ]
  },
  {
   "cell_type": "code",
   "execution_count": 26,
   "id": "e8bfef2a-49c2-4888-a613-9bb4b9939fd7",
   "metadata": {},
   "outputs": [
    {
     "data": {
      "text/plain": [
       "AIMessage(content='Quel est ton nom ?', response_metadata={'finish_reason': 'stop'}, id='run-6cf9fd5d-39f4-49a6-a3df-2b78f74fa40d-0')"
      ]
     },
     "execution_count": 26,
     "metadata": {},
     "output_type": "execute_result"
    }
   ],
   "source": [
    "chain.invoke({'user_text':['What is your name?']})"
   ]
  },
  {
   "cell_type": "markdown",
   "id": "4eb507cc-9991-44dd-9bce-5efc0cf94902",
   "metadata": {},
   "source": [
    "### Defining Agent Nodes"
   ]
  },
  {
   "cell_type": "code",
   "execution_count": null,
   "id": "3a226a48-e677-4a0a-9bd6-f4645b995c61",
   "metadata": {},
   "outputs": [],
   "source": []
  }
 ],
 "metadata": {
  "kernelspec": {
   "display_name": "Python 3 (ipykernel)",
   "language": "python",
   "name": "python3"
  },
  "language_info": {
   "codemirror_mode": {
    "name": "ipython",
    "version": 3
   },
   "file_extension": ".py",
   "mimetype": "text/x-python",
   "name": "python",
   "nbconvert_exporter": "python",
   "pygments_lexer": "ipython3",
   "version": "3.11.8"
  }
 },
 "nbformat": 4,
 "nbformat_minor": 5
}
