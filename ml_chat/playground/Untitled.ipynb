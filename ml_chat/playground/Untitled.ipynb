{
 "cells": [
  {
   "cell_type": "code",
   "execution_count": 12,
   "id": "33871291-b869-4afa-8f34-7d0e25efafc9",
   "metadata": {},
   "outputs": [
    {
     "name": "stdout",
     "output_type": "stream",
     "text": [
      "The autoreload extension is already loaded. To reload it, use:\n",
      "  %reload_ext autoreload\n"
     ]
    }
   ],
   "source": [
    "import pandas as pd\n",
    "import os\n",
    "import sys \n",
    "# sys.path.append(\"/Users/roshansk/Documents/GitHub/Multilingual-Chatbot/ml_chat\")\n",
    "sys.path.insert(0,\"/Users/roshansk/Documents/GitHub/Multilingual-Chatbot/\")\n",
    "\n",
    "\n",
    "from langchain.agents import create_openai_functions_agent\n",
    "from langchain_openai.chat_models import ChatOpenAI\n",
    "from langchain_core.prompts import ChatPromptTemplate, MessagesPlaceholder\n",
    "from langgraph.graph import END, StateGraph, START\n",
    "import functools\n",
    "from typing import TypedDict, Annotated, Sequence, Tuple, Optional, List\n",
    "import operator\n",
    "from langchain_core.messages import BaseMessage, HumanMessage, AIMessage\n",
    "\n",
    "from langchain.text_splitter import RecursiveCharacterTextSplitter\n",
    "from langchain_community.vectorstores import FAISS, Chroma\n",
    "from langchain_openai import OpenAIEmbeddings, ChatOpenAI\n",
    "from langchain_community.document_loaders import PyPDFLoader\n",
    "from langchain_community.vectorstores.faiss import DistanceStrategy\n",
    "\n",
    "\n",
    "%load_ext autoreload\n",
    "%autoreload 2"
   ]
  },
  {
   "cell_type": "code",
   "execution_count": 3,
   "id": "e05ce8ad-3ba3-43b7-84a7-5ab6975db70a",
   "metadata": {},
   "outputs": [
    {
     "name": "stdout",
     "output_type": "stream",
     "text": [
      "1\n",
      "2\n",
      "3\n",
      "4\n"
     ]
    }
   ],
   "source": [
    "for (x,y) in a:\n",
    "    print(x)\n",
    "    print(y)"
   ]
  },
  {
   "cell_type": "code",
   "execution_count": 15,
   "id": "5e3e8f5d-bf9c-4444-a648-c55e72f80dbc",
   "metadata": {},
   "outputs": [
    {
     "name": "stdout",
     "output_type": "stream",
     "text": [
      "sdf\n",
      "dfd\n"
     ]
    }
   ],
   "source": [
    "a = {'sdf':23,'dfd':34}\n",
    "\n",
    "for node in a:\n",
    "    print(node)"
   ]
  },
  {
   "cell_type": "code",
   "execution_count": 13,
   "id": "ede07015-3d54-4fba-9094-b737e06a529f",
   "metadata": {},
   "outputs": [],
   "source": [
    "from ml_chat.server.start_server import *"
   ]
  },
  {
   "cell_type": "code",
   "execution_count": 14,
   "id": "17336fcd-8167-467b-ae09-0bc6d0882e6f",
   "metadata": {},
   "outputs": [],
   "source": [
    "from agents.agents import *"
   ]
  },
  {
   "cell_type": "code",
   "execution_count": 58,
   "id": "64c7b0bc-771c-426e-8abb-e6518ceb557b",
   "metadata": {},
   "outputs": [],
   "source": [
    "from ml_chat.agents.workflow import MultilingualChatWorkflow\n",
    "\n",
    "user_list = [('roshan','english'),('shweta','hindi')]\n",
    "data_directory = '/Users/roshansk/Documents/GitHub/Multilingual-Chatbot/ml_chat/playground/data'"
   ]
  },
  {
   "cell_type": "code",
   "execution_count": 61,
   "id": "bf43f485-356d-45c2-abe4-24037a1f4979",
   "metadata": {},
   "outputs": [
    {
     "name": "stdout",
     "output_type": "stream",
     "text": [
      "Number of valid files (.pdf, .docx, .doc) in the directory: 2\n"
     ]
    }
   ],
   "source": [
    "app = MultilingualChatWorkflow(user_list=user_list, knowledge_base_directory= data_directory)"
   ]
  },
  {
   "cell_type": "code",
   "execution_count": 62,
   "id": "02d92c29-350c-4fbe-9445-037e5feed603",
   "metadata": {},
   "outputs": [],
   "source": [
    "app.initialize_agent_workflow()"
   ]
  },
  {
   "cell_type": "code",
   "execution_count": 63,
   "id": "4895feb6-8c18-43df-97d1-d01e13b87099",
   "metadata": {},
   "outputs": [
    {
     "data": {
      "text/plain": [
       "{'roshan': {'agent': <agents.agents.UserAgent at 0x14ccf4950>,\n",
       "  'node': functools.partial(<function get_user_node at 0x14b7049a0>, agent=<agents.agents.UserAgent object at 0x14ccf4950>, name='roshan')},\n",
       " 'shweta': {'agent': <agents.agents.UserAgent at 0x14ce406d0>,\n",
       "  'node': functools.partial(<function get_user_node at 0x14b7049a0>, agent=<agents.agents.UserAgent object at 0x14ce406d0>, name='shweta')}}"
      ]
     },
     "execution_count": 63,
     "metadata": {},
     "output_type": "execute_result"
    }
   ],
   "source": [
    "app.user_agents"
   ]
  },
  {
   "cell_type": "code",
   "execution_count": 64,
   "id": "c1ebe2d8-2ed7-4219-9e31-496f98ab885b",
   "metadata": {},
   "outputs": [],
   "source": [
    "roshan_agent = app.user_agents['roshan']['agent']"
   ]
  },
  {
   "cell_type": "code",
   "execution_count": 65,
   "id": "9eced4a0-b5b1-4cf6-a350-3795eb19db44",
   "metadata": {},
   "outputs": [
    {
     "data": {
      "text/plain": [
       "{'messages': [english | Hey there!]}"
      ]
     },
     "execution_count": 65,
     "metadata": {},
     "output_type": "execute_result"
    }
   ],
   "source": [
    "roshan_agent.send_text(\"Hey there!\")"
   ]
  },
  {
   "cell_type": "code",
   "execution_count": 66,
   "id": "87d03a77-d51e-4028-9be8-0c9369d9a3f3",
   "metadata": {},
   "outputs": [],
   "source": [
    "shweta = app.user_agents['shweta']['agent']"
   ]
  },
  {
   "cell_type": "code",
   "execution_count": 68,
   "id": "8e19f090-1232-4bc1-8d0e-2f68e9d40b13",
   "metadata": {},
   "outputs": [
    {
     "data": {
      "text/plain": [
       "'हैलो!'"
      ]
     },
     "execution_count": 68,
     "metadata": {},
     "output_type": "execute_result"
    }
   ],
   "source": [
    "shweta.chat_history[-1].content"
   ]
  },
  {
   "cell_type": "code",
   "execution_count": null,
   "id": "49648040-ed87-4cae-afe7-5b37f136cc35",
   "metadata": {},
   "outputs": [],
   "source": []
  },
  {
   "cell_type": "code",
   "execution_count": null,
   "id": "8a81d51f-0ec9-4848-b59a-8606914374cd",
   "metadata": {},
   "outputs": [],
   "source": []
  },
  {
   "cell_type": "code",
   "execution_count": null,
   "id": "0a73185f-f28f-4ab6-85f2-091896091090",
   "metadata": {},
   "outputs": [],
   "source": []
  },
  {
   "cell_type": "code",
   "execution_count": null,
   "id": "8f558049-d2da-4b3a-95d4-548060a2fec2",
   "metadata": {},
   "outputs": [],
   "source": []
  },
  {
   "cell_type": "code",
   "execution_count": null,
   "id": "82749052-0909-407e-8b66-8dc31a777c62",
   "metadata": {},
   "outputs": [],
   "source": []
  },
  {
   "cell_type": "code",
   "execution_count": null,
   "id": "82c6243e-e353-4b1b-9c7c-448560683b74",
   "metadata": {},
   "outputs": [],
   "source": []
  },
  {
   "cell_type": "code",
   "execution_count": null,
   "id": "6d1ece43-c9a7-40a8-a503-35c62daf3256",
   "metadata": {},
   "outputs": [],
   "source": []
  },
  {
   "cell_type": "code",
   "execution_count": null,
   "id": "ebb8d5a6-5bbe-4e24-82e1-fdc7a79ddd9c",
   "metadata": {},
   "outputs": [],
   "source": []
  },
  {
   "cell_type": "code",
   "execution_count": null,
   "id": "30eb62b8-6a06-409a-b19b-172e478c3221",
   "metadata": {},
   "outputs": [],
   "source": []
  },
  {
   "cell_type": "code",
   "execution_count": 24,
   "id": "f1d66855-369b-4d40-b722-c46880a8b9cc",
   "metadata": {},
   "outputs": [
    {
     "data": {
      "text/plain": [
       "'/Users/roshansk/Documents/GitHub/Multilingual-Chatbot/ml_chat/playground'"
      ]
     },
     "execution_count": 24,
     "metadata": {},
     "output_type": "execute_result"
    }
   ],
   "source": []
  },
  {
   "cell_type": "code",
   "execution_count": 25,
   "id": "7734be99-1d41-4d4b-8380-569d61523a8b",
   "metadata": {},
   "outputs": [],
   "source": [
    "directory = '/Users/roshansk/Documents/GitHub/Multilingual-Chatbot/ml_chat/playground/data'"
   ]
  },
  {
   "cell_type": "code",
   "execution_count": 29,
   "id": "d8077ce6-761b-46ca-b814-cdb33ffe6f60",
   "metadata": {},
   "outputs": [
    {
     "name": "stdout",
     "output_type": "stream",
     "text": [
      "Number of valid files (.pdf, .docx, .doc) in the directory: 2\n"
     ]
    }
   ],
   "source": [
    "directory = app.validate_knowledge_base(directory)"
   ]
  },
  {
   "cell_type": "code",
   "execution_count": 47,
   "id": "79f68ee1-ebc8-4bda-a481-8eea87ae0eaa",
   "metadata": {},
   "outputs": [],
   "source": [
    "doc1 = PyPDFLoader(directory.joinpath('machine_learning_basics.pdf')).load()\n",
    "doc2 = PyPDFLoader(directory.joinpath('2024_eng.pdf')).load()"
   ]
  },
  {
   "cell_type": "code",
   "execution_count": 55,
   "id": "22eea20f-4cb6-4d4c-addf-09c531bccc27",
   "metadata": {},
   "outputs": [],
   "source": [
    "docs = []\n",
    "for file in os.listdir(directory):\n",
    "    \n",
    "    doc = PyPDFLoader(directory.joinpath(file)).load()\n",
    "    docs += doc\n",
    "    \n",
    "                      "
   ]
  },
  {
   "cell_type": "code",
   "execution_count": 31,
   "id": "f82e9907-2342-47b0-9162-1703a0d9699e",
   "metadata": {},
   "outputs": [],
   "source": []
  },
  {
   "cell_type": "code",
   "execution_count": 56,
   "id": "9e006b6f-8eda-4df5-b05c-fe1360b6d997",
   "metadata": {},
   "outputs": [
    {
     "data": {
      "text/plain": [
       "21"
      ]
     },
     "execution_count": 56,
     "metadata": {},
     "output_type": "execute_result"
    }
   ],
   "source": []
  },
  {
   "cell_type": "code",
   "execution_count": 36,
   "id": "202b71db-9396-4a43-8b0e-fa00e445680e",
   "metadata": {},
   "outputs": [],
   "source": [
    "doc = PyPDFLoader(a).load()"
   ]
  },
  {
   "cell_type": "code",
   "execution_count": 38,
   "id": "f7cb2fd3-f127-4497-88aa-85dfaf028b1d",
   "metadata": {},
   "outputs": [
    {
     "data": {
      "text/plain": [
       "Document(metadata={'source': '/Users/roshansk/Documents/GitHub/Multilingual-Chatbot/ml_chat/playground/data/machine_learning_basics.pdf', 'page': 1}, page_content='WHAT IS MACHINE LEARNING?\\nBRIEF HISTORY OF MACHINE LEARNING\\nHOW IT WORKS\\nMACHINE LEARNING TECHNIQUES\\nTHE IMPORTANCE OF THE HUMAN ELEMENT\\nWHO’S USING IT?\\nCHALLENGES AND HESITATIONS\\nTHE FUTURE OF MACHINE LEARNING\\nCONTRIBUTORS3\\n5\\n8\\n9\\n11\\n12\\n1514\\n16TABLE OF CONTENTS\\n2\\n')"
      ]
     },
     "execution_count": 38,
     "metadata": {},
     "output_type": "execute_result"
    }
   ],
   "source": [
    "doc[1]"
   ]
  },
  {
   "cell_type": "code",
   "execution_count": 45,
   "id": "f88b88d1-1bef-4c32-b455-20fa8ae386a8",
   "metadata": {},
   "outputs": [],
   "source": [
    "text_splitter = RecursiveCharacterTextSplitter(chunk_size=500, chunk_overlap=100)"
   ]
  },
  {
   "cell_type": "code",
   "execution_count": 48,
   "id": "0a606c53-8f7a-4a02-80bd-e218d1bc4456",
   "metadata": {},
   "outputs": [],
   "source": [
    "splits1 = text_splitter.split_documents(doc1)"
   ]
  },
  {
   "cell_type": "code",
   "execution_count": 49,
   "id": "457613b9-c5a2-4eeb-8bee-dbfe1aebf273",
   "metadata": {},
   "outputs": [],
   "source": [
    "splits2 = text_splitter.split_documents(doc2)"
   ]
  },
  {
   "cell_type": "code",
   "execution_count": 50,
   "id": "ad0c9ab0-b738-4d86-be88-76a675f2b42f",
   "metadata": {},
   "outputs": [
    {
     "data": {
      "text/plain": [
       "72"
      ]
     },
     "execution_count": 50,
     "metadata": {},
     "output_type": "execute_result"
    }
   ],
   "source": [
    "len(splits1)"
   ]
  },
  {
   "cell_type": "code",
   "execution_count": 51,
   "id": "691d2d17-cf42-4c37-b9fb-e6bdc94edf5c",
   "metadata": {},
   "outputs": [
    {
     "data": {
      "text/plain": [
       "9"
      ]
     },
     "execution_count": 51,
     "metadata": {},
     "output_type": "execute_result"
    }
   ],
   "source": [
    "len(splits2)"
   ]
  },
  {
   "cell_type": "code",
   "execution_count": 52,
   "id": "8b9d6527-b2e3-4d12-9015-f6c5b5981b84",
   "metadata": {},
   "outputs": [],
   "source": [
    "a = splits1 + splits2"
   ]
  },
  {
   "cell_type": "code",
   "execution_count": 53,
   "id": "1c73befc-89c3-4f0e-ac21-e6e48d408fa9",
   "metadata": {},
   "outputs": [
    {
     "data": {
      "text/plain": [
       "81"
      ]
     },
     "execution_count": 53,
     "metadata": {},
     "output_type": "execute_result"
    }
   ],
   "source": [
    "len(a)"
   ]
  },
  {
   "cell_type": "code",
   "execution_count": 54,
   "id": "2b2333a3-ecf2-4b47-be92-ad8d710a2de5",
   "metadata": {},
   "outputs": [
    {
     "data": {
      "text/plain": [
       "21"
      ]
     },
     "execution_count": 54,
     "metadata": {},
     "output_type": "execute_result"
    }
   ],
   "source": [
    "len(doc1 + doc2)"
   ]
  },
  {
   "cell_type": "code",
   "execution_count": null,
   "id": "124a1d96-09b7-484c-9af9-041746e15d71",
   "metadata": {},
   "outputs": [],
   "source": []
  }
 ],
 "metadata": {
  "kernelspec": {
   "display_name": "Python 3 (ipykernel)",
   "language": "python",
   "name": "python3"
  },
  "language_info": {
   "codemirror_mode": {
    "name": "ipython",
    "version": 3
   },
   "file_extension": ".py",
   "mimetype": "text/x-python",
   "name": "python",
   "nbconvert_exporter": "python",
   "pygments_lexer": "ipython3",
   "version": "3.11.8"
  }
 },
 "nbformat": 4,
 "nbformat_minor": 5
}
