{
 "cells": [
  {
   "cell_type": "code",
   "execution_count": 14,
   "id": "1a9dd598-8883-4646-813d-5736cfa55f9d",
   "metadata": {},
   "outputs": [],
   "source": [
    "import requests\n",
    "import json\n",
    "\n",
    "post_url = \"http://localhost:8001/process\"\n",
    "get_url = \"http://localhost:8001/\""
   ]
  },
  {
   "cell_type": "markdown",
   "id": "824e96d7-0f02-4a63-8309-32ea3858ddfa",
   "metadata": {},
   "source": [
    "### Initiatilize API"
   ]
  },
  {
   "cell_type": "code",
   "execution_count": 21,
   "id": "597c54fb-396d-4168-b3ae-af86aa25b735",
   "metadata": {},
   "outputs": [],
   "source": [
    "## The API service can be started by using the following code in a terminal \n",
    "\n",
    "python start_server.py -u /Users/roshansk/Documents/GitHub/Multilingual-Chatbot/ml_chat/server/user_list.csv --data_directory /Users/roshansk/Documents/GitHub/Multilingual-Chatbot/ml_chat/playground/data"
   ]
  },
  {
   "cell_type": "code",
   "execution_count": null,
   "id": "b7992d8e-ec70-451c-8d70-7d0cd6c33a41",
   "metadata": {},
   "outputs": [],
   "source": []
  },
  {
   "cell_type": "markdown",
   "id": "f9e9e59a-efc4-4a72-aa4f-d82c203c9ea9",
   "metadata": {},
   "source": [
    "### POST Request"
   ]
  },
  {
   "cell_type": "code",
   "execution_count": 15,
   "id": "0c57ba0f-4f60-4575-99ce-cdf6c85537e9",
   "metadata": {},
   "outputs": [
    {
     "name": "stdout",
     "output_type": "stream",
     "text": [
      "None\n"
     ]
    }
   ],
   "source": [
    "# Sends the message from a given user to the workflow\n",
    "headers = {'Content-Type': 'application/json'}\n",
    "data = {\"sender\": \"roshan\",\"message\":\"Hey there!\"}\n",
    "\n",
    "response = requests.post(post_url, data=json.dumps(data), headers=headers)\n",
    "print(response.json())"
   ]
  },
  {
   "cell_type": "markdown",
   "id": "88b58902-ab6f-46db-a5ec-57243ccc1285",
   "metadata": {},
   "source": [
    "### GET Request"
   ]
  },
  {
   "cell_type": "code",
   "execution_count": 16,
   "id": "4ce8ba49-4ab1-4647-bcb5-4b161982c561",
   "metadata": {},
   "outputs": [],
   "source": [
    "# Retrieves the latest message sent to all users\n",
    "url = \"http://localhost:8001/\"\n",
    "response= requests.get(get_url) "
   ]
  },
  {
   "cell_type": "code",
   "execution_count": 19,
   "id": "f400adff-c2ce-4901-84b3-9e0f23eb664b",
   "metadata": {},
   "outputs": [
    {
     "data": {
      "text/plain": [
       "{'roshan': 'Hey there!', 'jared': 'हैलो!', 'chris': '¡Hola!'}"
      ]
     },
     "execution_count": 19,
     "metadata": {},
     "output_type": "execute_result"
    }
   ],
   "source": [
    "response.json()"
   ]
  },
  {
   "cell_type": "code",
   "execution_count": null,
   "id": "1d06a454-149d-4bed-ae68-5b6ae8c2b951",
   "metadata": {},
   "outputs": [],
   "source": []
  }
 ],
 "metadata": {
  "kernelspec": {
   "display_name": "Python 3 (ipykernel)",
   "language": "python",
   "name": "python3"
  },
  "language_info": {
   "codemirror_mode": {
    "name": "ipython",
    "version": 3
   },
   "file_extension": ".py",
   "mimetype": "text/x-python",
   "name": "python",
   "nbconvert_exporter": "python",
   "pygments_lexer": "ipython3",
   "version": "3.11.8"
  }
 },
 "nbformat": 4,
 "nbformat_minor": 5
}
