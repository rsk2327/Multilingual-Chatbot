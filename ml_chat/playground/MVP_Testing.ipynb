{
 "cells": [
  {
   "cell_type": "code",
   "execution_count": 1,
   "id": "33871291-b869-4afa-8f34-7d0e25efafc9",
   "metadata": {},
   "outputs": [],
   "source": [
    "import pandas as pd\n",
    "import os\n",
    "import sys \n",
    "# sys.path.append(\"/Users/roshansk/Documents/GitHub/Multilingual-Chatbot/ml_chat\")\n",
    "sys.path.insert(0,\"/Users/roshansk/Documents/GitHub/Multilingual-Chatbot/\")\n",
    "\n",
    "\n",
    "from langchain.agents import create_openai_functions_agent\n",
    "from langchain_openai.chat_models import ChatOpenAI\n",
    "from langchain_core.prompts import ChatPromptTemplate, MessagesPlaceholder\n",
    "from langgraph.graph import END, StateGraph, START\n",
    "import functools\n",
    "from typing import TypedDict, Annotated, Sequence, Tuple, Optional, List\n",
    "import operator\n",
    "from langchain_core.messages import BaseMessage, HumanMessage, AIMessage\n",
    "\n",
    "from langchain.text_splitter import RecursiveCharacterTextSplitter\n",
    "from langchain_community.vectorstores import FAISS, Chroma\n",
    "from langchain_openai import OpenAIEmbeddings, ChatOpenAI\n",
    "from langchain_community.document_loaders import PyPDFLoader\n",
    "from langchain_community.vectorstores.faiss import DistanceStrategy\n",
    "\n",
    "\n",
    "%load_ext autoreload\n",
    "%autoreload 2"
   ]
  },
  {
   "cell_type": "code",
   "execution_count": 228,
   "id": "e05ce8ad-3ba3-43b7-84a7-5ab6975db70a",
   "metadata": {},
   "outputs": [
    {
     "name": "stdout",
     "output_type": "stream",
     "text": [
      "Number of valid files (.pdf, .docx, .doc) in the directory: 3\n"
     ]
    }
   ],
   "source": [
    "sys.path.insert(0,\"/Users/roshansk/Documents/GitHub/Multilingual-Chatbot/\")\n",
    "\n",
    "from ml_chat.agents.workflow import MultilingualChatWorkflow\n",
    "\n",
    "user_list = [('roshan','english'),('shweta','hindi')]\n",
    "data_directory = '/Users/roshansk/Documents/GitHub/Multilingual-Chatbot/ml_chat/playground/data'\n",
    "\n",
    "app = MultilingualChatWorkflow(user_list=user_list, knowledge_base_directory= data_directory)"
   ]
  },
  {
   "cell_type": "code",
   "execution_count": 229,
   "id": "bf711648-c295-4550-94fa-6c2fb54cdb71",
   "metadata": {},
   "outputs": [
    {
     "name": "stdout",
     "output_type": "stream",
     "text": [
      "content='Hey there!' response_metadata={'finish_reason': 'stop'} id='run-71e5de24-1a62-4dbe-83ad-1e68fdaa1aeb-0'\n",
      "Within send_text. output type : <class 'langgraph.pregel.io.AddableValuesDict'>\n"
     ]
    }
   ],
   "source": [
    "app.send_message('roshan','hey there!')"
   ]
  },
  {
   "cell_type": "code",
   "execution_count": 230,
   "id": "4420b11e-3d58-45bc-9d23-99d394687c3e",
   "metadata": {},
   "outputs": [
    {
     "name": "stdout",
     "output_type": "stream",
     "text": [
      "content='The weather is lovely today!' response_metadata={'finish_reason': 'stop'} id='run-04f4a0da-d242-4fcc-b968-ae53a7855d7e-0'\n",
      "Within send_text. output type : <class 'langgraph.pregel.io.AddableValuesDict'>\n"
     ]
    }
   ],
   "source": [
    "app.send_message('roshan','the weather is lovely today!')"
   ]
  },
  {
   "cell_type": "code",
   "execution_count": 231,
   "id": "85fa866e-a67d-483d-ada3-42ff41724123",
   "metadata": {},
   "outputs": [
    {
     "name": "stdout",
     "output_type": "stream",
     "text": [
      "content='Aya, What is the full form of SVM?' response_metadata={'finish_reason': 'stop'} id='run-20ed5846-ee40-4ce0-8774-94cad78da449-0'\n",
      "Within send_text. output type : <class 'langgraph.pregel.io.AddableValuesDict'>\n"
     ]
    }
   ],
   "source": [
    "app.send_message('roshan','Aya, What is the full form of SVM?')"
   ]
  },
  {
   "cell_type": "code",
   "execution_count": 232,
   "id": "2f75306e-ce6e-4ba8-a300-15c12d06fa59",
   "metadata": {},
   "outputs": [
    {
     "name": "stdout",
     "output_type": "stream",
     "text": [
      "content='I heard somewhere that the new models are going to be run on 8x A100 GPUs, which have a total memory of 500 GB.' response_metadata={'finish_reason': 'stop'} id='run-d7373482-cb06-4d42-bdb2-0e5062efaea4-0'\n",
      "Within send_text. output type : <class 'langgraph.pregel.io.AddableValuesDict'>\n"
     ]
    }
   ],
   "source": [
    "app.send_message('roshan','I heard somewhere that the new models are going to be run on 8x A100 GPUs, which have a total memory of 500 GB.')\n"
   ]
  },
  {
   "cell_type": "code",
   "execution_count": 233,
   "id": "1d71db2a-235e-437b-8160-bc0b6addc683",
   "metadata": {},
   "outputs": [
    {
     "name": "stdout",
     "output_type": "stream",
     "text": [
      "content='Aya, can you save the previous message to the knowledge base?' response_metadata={'finish_reason': 'stop'} id='run-ec834bda-f2c5-4836-845d-142de7d20e43-0'\n",
      "Within send_text. output type : <class 'langgraph.pregel.io.AddableValuesDict'>\n"
     ]
    }
   ],
   "source": [
    "app.send_message('roshan','Aya, can you save the previous message to the knowledge base?')\n"
   ]
  },
  {
   "cell_type": "code",
   "execution_count": 234,
   "id": "2018fe70-bd8c-46ef-bd0b-0228618a802d",
   "metadata": {},
   "outputs": [
    {
     "name": "stdout",
     "output_type": "stream",
     "text": [
      "content='Aya, what is the total memory of the new model?' response_metadata={'finish_reason': 'stop'} id='run-22d426c1-ef99-4f78-a35e-4296e4647a31-0'\n",
      "Within send_text. output type : <class 'langgraph.pregel.io.AddableValuesDict'>\n"
     ]
    }
   ],
   "source": [
    "app.send_message('shweta','अया, नए मॉडल की कुल मेमोरी कितनी है?')"
   ]
  },
  {
   "cell_type": "code",
   "execution_count": 235,
   "id": "b552c5ca-087e-48c9-8b21-74366f47432c",
   "metadata": {},
   "outputs": [
    {
     "data": {
      "text/plain": [
       "[roshan | hey there!,\n",
       " roshan | The weather is lovely today!,\n",
       " roshan | Aya, What is the full form of SVM?,\n",
       " Aya | The full form of SVM is Support Vector Machines.,\n",
       " roshan | I heard somewhere that the new models are going to be run on 8x A100 GPUs, which have a total memory of 500 GB.,\n",
       " roshan | Aya, can you save the previous message to the knowledge base?,\n",
       " Aya | The previous message has been added to the knowledge base,\n",
       " shweta | Aya, what is the total memory of the new model?,\n",
       " Aya | The new models are going to be run on 8x A100 GPUs, which have a total memory of 500 GB.]"
      ]
     },
     "execution_count": 235,
     "metadata": {},
     "output_type": "execute_result"
    }
   ],
   "source": [
    "app.user_agents['roshan']['agent'].chat_history"
   ]
  },
  {
   "cell_type": "code",
   "execution_count": 236,
   "id": "aaae5c94-a3ac-4ef1-bc8d-e836b5e3a25e",
   "metadata": {},
   "outputs": [
    {
     "data": {
      "text/plain": [
       "[roshan | नमस्ते!,\n",
       " roshan | आज का मौसम बहुत सुहावना है!,\n",
       " roshan | आया, SVM का पूरा रूप क्या है?,\n",
       " Aya | SVM का पूरा रूप सपोर्ट वेक्टर मशीनें है।,\n",
       " roshan | मैंने कहीं सुना है कि नए मॉडल 8x A100 GPUs पर चलने वाले हैं, जिनकी कुल मेमोरी 500 GB है।,\n",
       " roshan | आया, क्या आप पिछले संदेश को ज्ञान आधार में सहेज सकती हैं?,\n",
       " Aya | पिछला संदेश ज्ञान आधार में जोड़ दिया गया है,\n",
       " shweta | अया, नए मॉडल की कुल मेमोरी कितनी है?,\n",
       " Aya | नए मॉडल 8x A100 GPUs पर चलाए जाएंगे, जिनकी कुल मेमोरी 500 GB है।]"
      ]
     },
     "execution_count": 236,
     "metadata": {},
     "output_type": "execute_result"
    }
   ],
   "source": [
    "app.user_agents['shweta']['agent'].chat_history"
   ]
  },
  {
   "cell_type": "code",
   "execution_count": 238,
   "id": "7fdfa926-70cc-4a6f-a87d-b11e777579c2",
   "metadata": {},
   "outputs": [
    {
     "ename": "ImportError",
     "evalue": "cannot import name 'NodeColors' from 'langchain_core.runnables.graph' (/Users/roshansk/base/lib/python3.11/site-packages/langchain_core/runnables/graph.py)",
     "output_type": "error",
     "traceback": [
      "\u001b[0;31m---------------------------------------------------------------------------\u001b[0m",
      "\u001b[0;31mImportError\u001b[0m                               Traceback (most recent call last)",
      "Cell \u001b[0;32mIn[238], line 2\u001b[0m\n\u001b[1;32m      1\u001b[0m \u001b[38;5;28;01mfrom\u001b[39;00m \u001b[38;5;21;01mIPython\u001b[39;00m\u001b[38;5;21;01m.\u001b[39;00m\u001b[38;5;21;01mdisplay\u001b[39;00m \u001b[38;5;28;01mimport\u001b[39;00m Image, display\n\u001b[0;32m----> 2\u001b[0m \u001b[38;5;28;01mfrom\u001b[39;00m \u001b[38;5;21;01mlangchain_core\u001b[39;00m\u001b[38;5;21;01m.\u001b[39;00m\u001b[38;5;21;01mrunnables\u001b[39;00m\u001b[38;5;21;01m.\u001b[39;00m\u001b[38;5;21;01mgraph\u001b[39;00m \u001b[38;5;28;01mimport\u001b[39;00m CurveStyle, MermaidDrawMethod, NodeColors\n\u001b[1;32m      4\u001b[0m display(\n\u001b[1;32m      5\u001b[0m     Image(\n\u001b[1;32m      6\u001b[0m         app\u001b[38;5;241m.\u001b[39mget_graph()\u001b[38;5;241m.\u001b[39mdraw_mermaid_png(\n\u001b[0;32m   (...)\u001b[0m\n\u001b[1;32m      9\u001b[0m     )\n\u001b[1;32m     10\u001b[0m )\n",
      "\u001b[0;31mImportError\u001b[0m: cannot import name 'NodeColors' from 'langchain_core.runnables.graph' (/Users/roshansk/base/lib/python3.11/site-packages/langchain_core/runnables/graph.py)"
     ]
    }
   ],
   "source": [
    "from IPython.display import Image, display\n",
    "from langchain_core.runnables.graph import CurveStyle, MermaidDrawMethod, NodeColors\n",
    "\n",
    "display(\n",
    "    Image(\n",
    "        app.get_graph().draw_mermaid_png(\n",
    "            draw_method=MermaidDrawMethod.API,\n",
    "        )\n",
    "    )\n",
    ")"
   ]
  },
  {
   "cell_type": "code",
   "execution_count": null,
   "id": "27be25fe-53c1-4c8a-9075-174f4d955962",
   "metadata": {},
   "outputs": [],
   "source": []
  },
  {
   "cell_type": "code",
   "execution_count": null,
   "id": "720fef47-5073-400e-a68d-eb0a2aa177f7",
   "metadata": {},
   "outputs": [],
   "source": []
  },
  {
   "cell_type": "code",
   "execution_count": null,
   "id": "9cfc6a0e-5b53-413c-9ce9-24052df0e949",
   "metadata": {},
   "outputs": [],
   "source": []
  },
  {
   "cell_type": "markdown",
   "id": "dd3beebd-28ad-4592-9c5a-ab5bd0638a53",
   "metadata": {},
   "source": [
    "### Supervisor Agent Prompt Testing"
   ]
  },
  {
   "cell_type": "code",
   "execution_count": 51,
   "id": "064b0bd2-b053-4076-86ed-c9318cb4290d",
   "metadata": {},
   "outputs": [],
   "source": [
    "SUPERVISOR_AGENT_PROMPT = \"\"\"\n",
    "You are a supervisor tasked with managing the chat messages with Aya, an AI assistant. Given a chat\n",
    "message, identify whether the message was directed to Aya and if so, what was its intention. \n",
    "\n",
    "Respond with one of the below 3 options : \n",
    "Aya_Query : Output this is the message is asking Aya to answer a question\n",
    "Aya_Save : Output this is the message asks Aya to save a peice of information to the knowledge base\n",
    "User : Output this if the message doesnt address Aya\n",
    "\n",
    "Chat Message : {message}\n",
    "\"\"\""
   ]
  },
  {
   "cell_type": "code",
   "execution_count": 54,
   "id": "c376d640-74ca-4566-80df-a717f262da68",
   "metadata": {},
   "outputs": [
    {
     "data": {
      "text/plain": [
       "AIMessage(content='Aya_Query', response_metadata={'token_usage': {'completion_tokens': 2, 'prompt_tokens': 123, 'total_tokens': 125}, 'model_name': 'gpt-4o', 'system_fingerprint': 'fp_3aa7262c27', 'finish_reason': 'stop', 'logprobs': None}, id='run-34e54676-79b2-4721-9c4d-2ca8d205462b-0')"
      ]
     },
     "execution_count": 54,
     "metadata": {},
     "output_type": "execute_result"
    }
   ],
   "source": [
    "message = 'Aya, can you tell me the capital of India?'\n",
    "llm.invoke(SUPERVISOR_AGENT_PROMPT.format(message = message))"
   ]
  },
  {
   "cell_type": "code",
   "execution_count": 60,
   "id": "612faa5f-6b81-4201-8d26-37cc879ab1d6",
   "metadata": {},
   "outputs": [
    {
     "data": {
      "text/plain": [
       "AIMessage(content='Aya_Query', response_metadata={'token_usage': {'completion_tokens': 2, 'prompt_tokens': 122, 'total_tokens': 124}, 'model_name': 'gpt-4o', 'system_fingerprint': 'fp_3aa7262c27', 'finish_reason': 'stop', 'logprobs': None}, id='run-abff7be2-2c8d-45b8-8485-ccf0203b64a3-0')"
      ]
     },
     "execution_count": 60,
     "metadata": {},
     "output_type": "execute_result"
    }
   ],
   "source": [
    "message = 'Aya, is it possible to save Donald Trump'\n",
    "llm.invoke(SUPERVISOR_AGENT_PROMPT.format(message = message))"
   ]
  },
  {
   "cell_type": "code",
   "execution_count": null,
   "id": "87d5b6d9-0493-4711-ae57-9baae4b90269",
   "metadata": {},
   "outputs": [],
   "source": []
  },
  {
   "cell_type": "code",
   "execution_count": 67,
   "id": "04256370-843c-44d4-9719-8b886fe70e5f",
   "metadata": {},
   "outputs": [],
   "source": [
    "def router(state, sender, dest1, dest2):\n",
    "    last_message = state[\"messages\"][-1]\n",
    "    if last_message.sender == sender:\n",
    "        return dest1\n",
    "    else:\n",
    "        return dest2\n",
    "    "
   ]
  },
  {
   "cell_type": "code",
   "execution_count": 82,
   "id": "81632360-9f5b-412b-9849-0ab25e5b076e",
   "metadata": {},
   "outputs": [],
   "source": [
    "out = partial(router, sender = \"Aya\", dest1 = 'End', dest2 = \"Aya\")"
   ]
  },
  {
   "cell_type": "code",
   "execution_count": 69,
   "id": "834a1664-0ade-44a3-935a-296d68d5c82d",
   "metadata": {},
   "outputs": [
    {
     "data": {
      "text/plain": [
       "functools.partial(<function router at 0x1234b3ce0>, sender='Aya', dest1='End', dest2='Aya')"
      ]
     },
     "execution_count": 69,
     "metadata": {},
     "output_type": "execute_result"
    }
   ],
   "source": [
    "out"
   ]
  },
  {
   "cell_type": "code",
   "execution_count": 70,
   "id": "ae5d9ce7-82fc-427f-b3af-0a842f860456",
   "metadata": {},
   "outputs": [
    {
     "data": {
      "text/plain": [
       "'Aya'"
      ]
     },
     "execution_count": 70,
     "metadata": {},
     "output_type": "execute_result"
    }
   ],
   "source": [
    "out('dfd')"
   ]
  },
  {
   "cell_type": "code",
   "execution_count": 81,
   "id": "ee02c441-5bbe-4d24-acce-562932c97170",
   "metadata": {},
   "outputs": [],
   "source": [
    "from langchain_core.runnables.base import (\n",
    "    Runnable,\n",
    "    RunnableConfig,\n",
    "    RunnableLambda,\n",
    "    RunnableLike,\n",
    "    RunnableParallel,\n",
    ")"
   ]
  },
  {
   "cell_type": "code",
   "execution_count": 84,
   "id": "ef1fa2df-2928-4593-bcc3-428093d41206",
   "metadata": {},
   "outputs": [],
   "source": [
    "if isinstance(out, Runnable):\n",
    "    print(\"df\")"
   ]
  },
  {
   "cell_type": "markdown",
   "id": "909393dd-78c2-4d4b-b8dc-f851cdc14f6b",
   "metadata": {},
   "source": [
    "### Retriever Testing"
   ]
  },
  {
   "cell_type": "code",
   "execution_count": 133,
   "id": "4253d3cf-762b-4a43-a5e6-10e5f0a37a97",
   "metadata": {},
   "outputs": [],
   "source": [
    "from langchain_community.document_loaders import PyPDFLoader, TextLoader"
   ]
  },
  {
   "cell_type": "code",
   "execution_count": 135,
   "id": "035396f8-cf84-417d-b754-8ac3c4816016",
   "metadata": {},
   "outputs": [],
   "source": [
    "valid_extensions = ['.pdf','.txt']\n",
    "valid_files = [file for file in path.iterdir() if file.is_file() and file.suffix.lower() in valid_extensions]"
   ]
  },
  {
   "cell_type": "code",
   "execution_count": 136,
   "id": "32456821-b686-4720-8c12-82b04f5b6972",
   "metadata": {},
   "outputs": [
    {
     "data": {
      "text/plain": [
       "[PosixPath('/Users/roshansk/Documents/GitHub/Multilingual-Chatbot/ml_chat/playground/data/user_data.txt'),\n",
       " PosixPath('/Users/roshansk/Documents/GitHub/Multilingual-Chatbot/ml_chat/playground/data/user_file.txt'),\n",
       " PosixPath('/Users/roshansk/Documents/GitHub/Multilingual-Chatbot/ml_chat/playground/data/machine_learning_basics.pdf'),\n",
       " PosixPath('/Users/roshansk/Documents/GitHub/Multilingual-Chatbot/ml_chat/playground/data/2024_eng.pdf')]"
      ]
     },
     "execution_count": 136,
     "metadata": {},
     "output_type": "execute_result"
    }
   ],
   "source": [
    "valid_files = valid_files[2:]"
   ]
  },
  {
   "cell_type": "code",
   "execution_count": 140,
   "id": "033ebc8c-fd24-4d81-9713-845019b4b0b0",
   "metadata": {},
   "outputs": [],
   "source": [
    "docs = []\n",
    "for file in valid_files : \n",
    "    doc_data = PyPDFLoader(path / file).load()\n",
    "    docs += doc_data"
   ]
  },
  {
   "cell_type": "code",
   "execution_count": 141,
   "id": "d0aa262f-b1a9-4635-9542-dce9fecaf058",
   "metadata": {},
   "outputs": [],
   "source": [
    "text_splitter = RecursiveCharacterTextSplitter(chunk_size=500, chunk_overlap=100)\n",
    "splits = text_splitter.split_documents(docs)"
   ]
  },
  {
   "cell_type": "code",
   "execution_count": 142,
   "id": "3e6f27e4-ce0b-44c6-8ceb-bcf49e72cef2",
   "metadata": {},
   "outputs": [],
   "source": [
    "store = FAISS.from_documents(splits, OpenAIEmbeddings(), distance_strategy=DistanceStrategy.COSINE)"
   ]
  },
  {
   "cell_type": "code",
   "execution_count": 143,
   "id": "9c5ea283-b9be-4982-a02d-a40ba42ccf39",
   "metadata": {},
   "outputs": [],
   "source": [
    "retriever = store.as_retriever(search_kwargs={\"k\": 3})"
   ]
  },
  {
   "cell_type": "code",
   "execution_count": 145,
   "id": "759e629c-ea63-4f40-8835-d332a29f6a7e",
   "metadata": {
    "scrolled": true
   },
   "outputs": [
    {
     "data": {
      "text/plain": [
       "{0: '1ef6aec8-96a5-4846-ab9b-96893fa041d4',\n",
       " 1: 'c2b4bc21-062a-4735-ade7-5f58e84163b0',\n",
       " 2: '620594b4-aff4-4300-aa77-de2386d98035',\n",
       " 3: 'c1f92e56-f896-4479-992e-159c2ab9df09',\n",
       " 4: '24ed04f2-1350-4ffd-9173-9bbdd900e1ad',\n",
       " 5: 'fe894617-87de-4883-a093-a1ad8d5bc5d2',\n",
       " 6: '84df06c8-961b-4707-b7b3-ab7e24266837',\n",
       " 7: 'ead11233-4878-42df-891d-86d759248cff',\n",
       " 8: '7443d96b-0fe3-4421-9248-5aa47a7176f5',\n",
       " 9: '93674bda-3079-4201-9a0e-f3ebd051570d',\n",
       " 10: '1f6a5218-e240-4c16-9004-2caac418fccc',\n",
       " 11: '415cd6fc-2d7b-4be9-84bf-86600a334a3b',\n",
       " 12: '347f33bf-4e87-4c33-89b6-e24c10ae18b8',\n",
       " 13: '58fe5d09-a1f1-4399-98b6-2064173e1e98',\n",
       " 14: 'd0f55789-4b85-49e3-921a-fcc24f16948e',\n",
       " 15: '5882fdea-fe52-43d3-851e-c8ad4f7edcba',\n",
       " 16: '56fb8b65-5eeb-4265-8541-98d26ef0548e',\n",
       " 17: '651e10b0-fffc-4fc3-a95b-e67928d5dac2',\n",
       " 18: '2a1ac975-fb3c-4b86-bef4-93c99eda6947',\n",
       " 19: '4877a23a-8d6f-439c-984f-e1d45f72756f',\n",
       " 20: '7d6ab7f1-54ea-4639-bf36-e876927b58d2',\n",
       " 21: 'c4bd3fc0-30b4-4f24-b059-621993ab2fde',\n",
       " 22: '9ba39e89-efff-408c-9c81-e927473bb21b',\n",
       " 23: 'fc345d87-3c77-4b02-b828-cddd66a4ee31',\n",
       " 24: '335f75a6-4fd4-41ac-8792-aa8e14f471b7',\n",
       " 25: 'c79135d5-5bf0-486f-9416-4c97f0899a42',\n",
       " 26: '3549feda-5af4-47db-ba89-7da62d467d73',\n",
       " 27: 'a0da5df9-adb9-42f8-a699-976f6ad70449',\n",
       " 28: 'dec07dd8-1175-4829-9b8f-53850a701f47',\n",
       " 29: 'a8d706b4-fcee-469b-b90d-abdf0b45944f',\n",
       " 30: 'e9de0d4b-2dfa-4cce-8814-589ccdc1e5f3',\n",
       " 31: '9612ccbd-4d8d-427a-819e-48b475a0954f',\n",
       " 32: '6dca0558-b296-4b89-9512-60a816d60b7a',\n",
       " 33: 'f55d3dc6-0f49-4b2f-98f5-9733c9f4b251',\n",
       " 34: '3355cee8-e80f-483b-aa7d-0027855a8d38',\n",
       " 35: 'b878a8dd-d26a-4bac-99da-ea0a42d05c7a',\n",
       " 36: '9a8617cd-e4be-41a1-bbc2-b32b58b4055e',\n",
       " 37: '58513472-cfec-495f-a9d8-72328953be62',\n",
       " 38: '352bd647-ec05-4abb-9844-e51b87a10990',\n",
       " 39: '15030cbc-4d09-4ef2-9612-bc52ba7f0dff',\n",
       " 40: '283a272e-7381-4693-8a07-5158732e2552',\n",
       " 41: '28f0c0a4-f9c1-42e0-975e-8c7bb6d41171',\n",
       " 42: '0fa300ea-5476-4601-8646-5dea81ef3d3a',\n",
       " 43: '12619522-444b-4621-8f48-704818cd14cc',\n",
       " 44: '31c6af52-dba7-401a-85bf-54dc8a7e5b05',\n",
       " 45: '6c540d41-f83e-40dc-8b37-2cae9bcafa06',\n",
       " 46: '9878bc57-55c2-4b9c-ac56-d8f4f05f052c',\n",
       " 47: '9864db05-d28a-4908-ade5-6c4c95cb61fe',\n",
       " 48: '30acbfc7-252e-400d-ae10-fef0b692a4f3',\n",
       " 49: '6dbfd191-16e3-4716-8419-9563b6b7c97e',\n",
       " 50: '3a411065-f259-4dc5-9a14-45f630ce8594',\n",
       " 51: '2263e77a-09ba-4838-ac4d-5ed191d8bd91',\n",
       " 52: '568faaa9-121d-485b-9f7e-022da458220a',\n",
       " 53: 'a8a0e64c-56ad-4a30-ba6d-70cf8d5674a6',\n",
       " 54: 'd5260970-ac13-4e72-b981-622e97c929fb',\n",
       " 55: 'b5fe1b04-22f9-4865-82f2-ee854fb7324f',\n",
       " 56: 'a0899916-34ba-4711-be7e-060bca9e46b7',\n",
       " 57: 'b43e0846-5d5f-4806-a724-b5a84371b5c5',\n",
       " 58: '94d65cd8-1a1d-4e24-8150-bc2837ee5be2',\n",
       " 59: 'a603e8d4-5b8f-4fdf-b008-cae589e09bf6',\n",
       " 60: 'b7c7e419-a6f5-40da-ae91-f39b88de964c',\n",
       " 61: 'ea60a0af-15fe-421f-a2c4-95287a82e75b',\n",
       " 62: 'ae22b726-eec4-4f73-8d12-d9984f93d7ee',\n",
       " 63: '7fb05e63-1f12-44b6-a459-037d54e8598f',\n",
       " 64: 'effecb0e-c86f-4630-810b-23791d91a91a',\n",
       " 65: '001baec0-0d95-4516-aadc-a1952ca368c2',\n",
       " 66: '9618891f-49fb-4fa0-b14d-3a5d8748bdca',\n",
       " 67: '98246b63-2077-483c-8696-e986023d9c40',\n",
       " 68: '9000b4b7-b173-47c8-b8c6-7927ef890547',\n",
       " 69: 'fc150bba-3c7c-425b-8b72-d75706ef086a',\n",
       " 70: 'c37af5f5-cb27-40dc-886a-64653665f428',\n",
       " 71: '68483607-b173-49fb-8bb3-eecf46f5b7eb',\n",
       " 72: 'ee2be849-8eaa-4b8e-b6d5-061d77a691fd',\n",
       " 73: 'fe3ed075-182b-4a70-8782-69de8661325d',\n",
       " 74: 'fb40026a-bce5-49ba-a187-d308860fbd59',\n",
       " 75: 'c13a44e5-b74b-4043-86aa-0291221df51c',\n",
       " 76: '1ca49db8-2b69-4522-a4c1-1d552498b2fd',\n",
       " 77: '758c6bc5-2771-4237-b2c1-e54848bb1832',\n",
       " 78: '55b93218-f73a-4b27-9b65-69199d7b53f7',\n",
       " 79: 'db3219c1-93c5-48c9-8ab4-47d19a99af21',\n",
       " 80: '0b4a5128-d15f-4901-98d0-31485458b9e1'}"
      ]
     },
     "execution_count": 145,
     "metadata": {},
     "output_type": "execute_result"
    }
   ],
   "source": [
    "store.index_to_docstore_id"
   ]
  },
  {
   "cell_type": "code",
   "execution_count": 152,
   "id": "9eec7815-514e-4b51-b8ce-8608143ec709",
   "metadata": {},
   "outputs": [
    {
     "data": {
      "text/plain": [
       "['377f13e5-a852-4750-9116-b0205429724e']"
      ]
     },
     "execution_count": 152,
     "metadata": {},
     "output_type": "execute_result"
    }
   ],
   "source": [
    "store.add_texts(['Capital of India is new delhi. new delhi was founded in 1728. Gave new status to mughal kings'])"
   ]
  },
  {
   "cell_type": "code",
   "execution_count": 153,
   "id": "98c4731e-b286-43b3-b8f7-9ae3fbec78b5",
   "metadata": {},
   "outputs": [
    {
     "data": {
      "text/plain": [
       "[Document(page_content='Capital of India is new delhi. new delhi was founded in 1728. Gave new status to mughal kings'),\n",
       " Document(metadata={'source': '/Users/roshansk/Documents/GitHub/Multilingual-Chatbot/ml_chat/playground/data/machine_learning_basics.pdf', 'page': 16}, page_content='SRINIVAS BANGALORE\\nDIRECTOR OF RESEARCH AND TECHNOLOGY, INTERACTIONS\\nDr. Srinivas Bangalore is currently the Director of Research and Technology at \\nInteractions. After receiving his PhD in Computer Science from The University of \\nPennsylvania, he became a Principal Research Scientist at AT&T Labs—Research. \\nDr. Bangalore has worked on many areas of Natural Language Processing including \\nSpoken Language Translation, Multimodal Understanding, Language Generation'),\n",
       " Document(metadata={'source': '/Users/roshansk/Documents/GitHub/Multilingual-Chatbot/ml_chat/playground/data/2024_eng.pdf', 'page': 1}, page_content='smallest possible value of c.\\nLanguage: English Time: 4 hours and 30 minutes.\\nEach problem is worth 7 points.English (eng), day 2')]"
      ]
     },
     "execution_count": 153,
     "metadata": {},
     "output_type": "execute_result"
    }
   ],
   "source": [
    "retriever.invoke(\"What is the capital of India\")"
   ]
  },
  {
   "cell_type": "code",
   "execution_count": null,
   "id": "c367ad2e-6934-4008-b700-1ee17eb4da92",
   "metadata": {},
   "outputs": [],
   "source": []
  }
 ],
 "metadata": {
  "kernelspec": {
   "display_name": "Python 3 (ipykernel)",
   "language": "python",
   "name": "python3"
  },
  "language_info": {
   "codemirror_mode": {
    "name": "ipython",
    "version": 3
   },
   "file_extension": ".py",
   "mimetype": "text/x-python",
   "name": "python",
   "nbconvert_exporter": "python",
   "pygments_lexer": "ipython3",
   "version": "3.11.8"
  }
 },
 "nbformat": 4,
 "nbformat_minor": 5
}
