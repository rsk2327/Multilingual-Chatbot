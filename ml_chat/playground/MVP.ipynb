{
 "cells": [
  {
   "cell_type": "code",
   "execution_count": 1,
   "id": "035f696d-5ad1-46e6-b97f-298c47ec7947",
   "metadata": {},
   "outputs": [],
   "source": [
    "from agents.workflow import *"
   ]
  },
  {
   "cell_type": "code",
   "execution_count": 2,
   "id": "a66dd27f-256d-4fc6-93f0-07fb1c353f0e",
   "metadata": {},
   "outputs": [],
   "source": [
    "english_agent, spanish_agent, french_agent = generate_agents()"
   ]
  },
  {
   "cell_type": "code",
   "execution_count": 3,
   "id": "e557561d-3f51-4048-9e97-aca4af8f7259",
   "metadata": {},
   "outputs": [
    {
     "data": {
      "text/plain": [
       "{'messages': [English | Hey everyone!]}"
      ]
     },
     "execution_count": 3,
     "metadata": {},
     "output_type": "execute_result"
    }
   ],
   "source": [
    "english_agent.send_text(\"Hey everyone!\")"
   ]
  },
  {
   "cell_type": "code",
   "execution_count": 4,
   "id": "c15398c9-3b03-4765-a174-08b902384b74",
   "metadata": {},
   "outputs": [
    {
     "data": {
      "text/plain": [
       "{'messages': [Spanish | Ey. Lo estoy haciendo bien]}"
      ]
     },
     "execution_count": 4,
     "metadata": {},
     "output_type": "execute_result"
    }
   ],
   "source": [
    "spanish_agent.send_text(\"Ey. Lo estoy haciendo bien\")"
   ]
  },
  {
   "cell_type": "code",
   "execution_count": 5,
   "id": "63b70965-fc64-4d1f-8f52-324067239426",
   "metadata": {},
   "outputs": [
    {
     "data": {
      "text/plain": [
       "{'messages': [English | Aya, when was SVM invented?,\n",
       "  Aya | Support Vector Machines (SVMs) were invented in 1992 by researchers at AT&T.]}"
      ]
     },
     "execution_count": 5,
     "metadata": {},
     "output_type": "execute_result"
    }
   ],
   "source": [
    "english_agent.send_text(\"Aya, when was SVM invented?\")"
   ]
  },
  {
   "cell_type": "code",
   "execution_count": 6,
   "id": "8cc4f4ac-c900-4861-9f75-e195b3efcde2",
   "metadata": {},
   "outputs": [
    {
     "data": {
      "text/plain": [
       "{'messages': [French | il fait beau aujourd'hui]}"
      ]
     },
     "execution_count": 6,
     "metadata": {},
     "output_type": "execute_result"
    }
   ],
   "source": [
    "french_agent.send_text(\"il fait beau aujourd'hui\")"
   ]
  },
  {
   "cell_type": "code",
   "execution_count": 7,
   "id": "427257c0-0560-4c79-9769-8ea564b28dad",
   "metadata": {},
   "outputs": [
    {
     "name": "stdout",
     "output_type": "stream",
     "text": [
      "English : Hey everyone!\n",
      "Spanish : Hey. I'm doing it right.\n",
      "English : Aya, when was SVM invented?\n",
      "Aya : Support Vector Machines (SVMs) were invented in 1992 by researchers at AT&T.\n",
      "French : The weather is nice today.\n"
     ]
    }
   ],
   "source": [
    "english_agent.display_chat_history(content_only=True)"
   ]
  },
  {
   "cell_type": "code",
   "execution_count": 8,
   "id": "face678f-e0a2-439c-b929-8b7d85f4dad1",
   "metadata": {},
   "outputs": [
    {
     "name": "stdout",
     "output_type": "stream",
     "text": [
      "English : ¡Hola a todos!\n",
      "Spanish : Ey. Lo estoy haciendo bien\n",
      "English : Aya, ¿cuándo se inventó SVM?\n",
      "Aya : Las Máquinas de Vectores de Soporte (SVMs) fueron inventadas en 1992 por investigadores de AT&T.\n",
      "French : hace buen tiempo hoy\n"
     ]
    }
   ],
   "source": [
    "spanish_agent.display_chat_history(content_only=True)"
   ]
  },
  {
   "cell_type": "code",
   "execution_count": 9,
   "id": "9cc7a9a8-d681-4677-a3f7-95b98392f600",
   "metadata": {},
   "outputs": [
    {
     "name": "stdout",
     "output_type": "stream",
     "text": [
      "English : Salut tout le monde!\n",
      "Spanish : Eh. Je le fais bien.\n",
      "English : Aya, quand le SVM a-t-il été inventé ?\n",
      "Aya : Les Machines à Vecteurs de Support (SVMs) ont été inventées en 1992 par des chercheurs chez AT&T.\n",
      "French : il fait beau aujourd'hui\n"
     ]
    }
   ],
   "source": [
    "french_agent.display_chat_history(content_only=True)"
   ]
  },
  {
   "cell_type": "code",
   "execution_count": null,
   "id": "e503bafa-efaa-4ec7-ab70-d8dbf3f1d065",
   "metadata": {},
   "outputs": [],
   "source": []
  }
 ],
 "metadata": {
  "kernelspec": {
   "display_name": "Python 3 (ipykernel)",
   "language": "python",
   "name": "python3"
  },
  "language_info": {
   "codemirror_mode": {
    "name": "ipython",
    "version": 3
   },
   "file_extension": ".py",
   "mimetype": "text/x-python",
   "name": "python",
   "nbconvert_exporter": "python",
   "pygments_lexer": "ipython3",
   "version": "3.11.8"
  }
 },
 "nbformat": 4,
 "nbformat_minor": 5
}
