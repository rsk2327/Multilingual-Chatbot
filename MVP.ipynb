{
 "cells": [
  {
   "cell_type": "code",
   "execution_count": 230,
   "id": "cf29666d-aca6-4164-8e5c-c345683765bd",
   "metadata": {},
   "outputs": [],
   "source": [
    "import os\n",
    "import getpass\n",
    "from langchain.agents import create_openai_functions_agent\n",
    "from langchain_openai.chat_models import ChatOpenAI\n",
    "from langchain_core.prompts import ChatPromptTemplate, MessagesPlaceholder\n",
    "from langgraph.graph import END, StateGraph, START\n",
    "import functools\n",
    "from typing import TypedDict, Annotated, Sequence\n",
    "import operator\n",
    "from langchain_core.messages import BaseMessage, HumanMessage, AIMessage\n",
    "\n",
    "from langchain.text_splitter import RecursiveCharacterTextSplitter\n",
    "from langchain_community.vectorstores import FAISS, Chroma\n",
    "from langchain_openai import OpenAIEmbeddings, ChatOpenAI\n",
    "from langchain_community.document_loaders import PyPDFLoader\n",
    "from langchain_community.vectorstores.faiss import DistanceStrategy"
   ]
  },
  {
   "cell_type": "code",
   "execution_count": 64,
   "id": "04107504-7dae-474b-9527-7427edb6dbee",
   "metadata": {},
   "outputs": [],
   "source": [
    "llm = ChatOpenAI(model=\"gpt-4\", streaming=True)"
   ]
  },
  {
   "cell_type": "code",
   "execution_count": null,
   "id": "41021af1-837c-40af-8904-411f81b69cce",
   "metadata": {},
   "outputs": [],
   "source": []
  },
  {
   "cell_type": "code",
   "execution_count": 109,
   "id": "2ebb2794-a29b-4afa-8929-35fe3dc5fdbd",
   "metadata": {},
   "outputs": [],
   "source": [
    "loader = PyPDFLoader(\"machine_learning_basics.pdf\")\n",
    "docs = loader.load()\n",
    "\n",
    "text_splitter = RecursiveCharacterTextSplitter(chunk_size=500, chunk_overlap=100)\n",
    "\n",
    "store = FAISS.from_documents(docs, OpenAIEmbeddings(), distance_strategy=DistanceStrategy.COSINE)\n",
    "\n",
    "retriever = store.as_retriever(search_kwargs={\"k\": 3})"
   ]
  },
  {
   "cell_type": "markdown",
   "id": "32920c2f-5c07-4228-8ba4-1113311a3d64",
   "metadata": {},
   "source": [
    "### Defining Agent State"
   ]
  },
  {
   "cell_type": "code",
   "execution_count": 319,
   "id": "0980863f-8164-45bf-b048-6c20f340b464",
   "metadata": {},
   "outputs": [],
   "source": [
    "class ChatMessage(object):\n",
    "\n",
    "    def __init__(self, message : BaseMessage, sender : str = None):\n",
    "\n",
    "        self.message = message\n",
    "        self.sender = sender\n",
    "\n",
    "        self.content = message.content\n",
    "\n",
    "    def __repr__(self) -> str:\n",
    "        \n",
    "        return f\"{self.sender} | {self.content}\"\n",
    "\n",
    "def reducer(a : list, b : list | str ) -> list:\n",
    "\n",
    "    if type(b) == list: \n",
    "        return a + b\n",
    "    else:\n",
    "        return a\n",
    "\n",
    "    \n",
    "class AgentState(TypedDict):\n",
    "    messages: Annotated[Sequence[ChatMessage], reducer]\n"
   ]
  },
  {
   "cell_type": "code",
   "execution_count": 440,
   "id": "acb3db71-23d8-4d38-b8cf-973185530b21",
   "metadata": {},
   "outputs": [],
   "source": [
    "USER_SYSTEM_PROMPT = \"\"\"You are a translator. Translate the text provided by the user into {user_language}. Output only the \n",
    "    translated text. If the text is already in {user_language}, return the user's text as it is.\n",
    "\"\"\"\n",
    "\n",
    "AYA_AGENT_PROMPT = \"\"\"Your name is Aya and you are an assistant that answers questions. Only respond if the question is addressed to you (Aya)!! \n",
    "If its not specifically addressed to you, respond with 'NULL'.\n",
    "    \n",
    "\n",
    "    Obey the following rules while responding : \n",
    "    1. Only use the text provided in the context to answer the question.\n",
    "    2. If you don't know the answer, just say that you don't know. \n",
    "    3. Use three sentences maximum and keep the answer concise.\n",
    "    \n",
    "    Question: {question} \n",
    "    Context: {context} \n",
    "    Answer:\n",
    "\"\"\"\n",
    "\n",
    "SUPERVISOR_AGENT_PROMPT = \"\"\"\n",
    "You are a supervisor tasked with managing the chat messages with Aya, an AI assistant. Given a chat\n",
    "message, identify whether the message was directed to Aya. If so, respond with 'Aya'. Otherwise, \n",
    "respond with 'User'\n",
    "\n",
    "Chat Message : {message}\n",
    "\"\"\"\n",
    "\n",
    "# AYA_AGENT_PROMPT = \"\"\"\n",
    "# You are an assistant and your name is Aya. Only answer questions that are addressed to you (Aya). If they are not addressed to you, just respond with \"Null\". Based on the above instructions answer the following question : \n",
    "\n",
    "# Question : {question}\n",
    "# Context : {context}\n",
    "# Answer : \n",
    "# \"\"\"\n",
    "\n",
    "\n",
    "class UserAgent(object):\n",
    "\n",
    "    def __init__(self, llm, user_language):\n",
    "        self.llm = llm\n",
    "        self.user_language = user_language\n",
    "        self.chat_history = []\n",
    "\n",
    "        system_prompt = USER_SYSTEM_PROMPT.format(user_language = user_language)\n",
    "    \n",
    "        prompt = ChatPromptTemplate.from_messages(\n",
    "            [\n",
    "                (\n",
    "                    \"system\", system_prompt,\n",
    "                ),\n",
    "                MessagesPlaceholder(variable_name = 'user_text'),\n",
    "            ]\n",
    "        )\n",
    "\n",
    "        self.chain = prompt | llm\n",
    "\n",
    "\n",
    "    def set_graph(self, graph):\n",
    "        self.graph = graph\n",
    "\n",
    "    def send_text(self,text, debug = False):\n",
    "\n",
    "        message = ChatMessage(message = HumanMessage(content=text), sender = self.user_language)\n",
    "\n",
    "        inputs = {\"messages\": [message]}\n",
    "        output = self.graph.invoke(inputs, debug = debug)\n",
    "        \n",
    "        return output\n",
    "\n",
    "    def display_chat_history(self, content_only = False):\n",
    "\n",
    "        for i in self.chat_history:\n",
    "            if content_only == True:\n",
    "                print(f\"{i.sender} : {i.content}\")\n",
    "            else:\n",
    "                print(i)\n",
    "\n",
    "    \n",
    "    def invoke(self, message:ChatMessage):\n",
    "        \n",
    "        # translated_message = self.chain.invoke({'user_text':[message.message]})\n",
    "        output = self.chain.invoke({'user_text':[message]})\n",
    "\n",
    "        # return ChatMessage(translated_message, sender = message.sender)\n",
    "        return output\n",
    "            \n",
    "\n",
    "\n",
    "def format_docs(docs):\n",
    "    return \"\\n\\n ------------\".join(doc.page_content for doc in docs)\n",
    "    \n",
    "class AyaAgent(object):\n",
    "\n",
    "    def __init__(self, llm, retriever):\n",
    "\n",
    "        self.llm = llm\n",
    "        self.retriever = retriever\n",
    "\n",
    "        qa_prompt = ChatPromptTemplate.from_template(AYA_AGENT_PROMPT)\n",
    "\n",
    "        self.chain = qa_prompt | llm \n",
    "\n",
    "    def invoke(self, question : str) -> AIMessage:\n",
    "\n",
    "        print(\"Within aya agent\")\n",
    "        print(question)\n",
    "\n",
    "        context = format_docs(self.retriever.invoke(question))\n",
    "        rag_output = self.chain.invoke({'question':question, 'context':context})\n",
    "        answer = rag_output\n",
    "\n",
    "        return answer\n",
    "          \n",
    "class SupervisorAgent(object):\n",
    "\n",
    "    def __init__(self):\n",
    "\n",
    "        prompt = ChatPromptTemplate.from_template(SUPERVISOR_AGENT_PROMPT)\n",
    "    \n",
    "        self.chain = prompt | llm\n",
    "\n",
    "    def invoke(self, message : str) -> str:\n",
    "\n",
    "        print(\"Within supervisor agent\")\n",
    "        print(message)\n",
    "\n",
    "        output = self.chain.invoke(message)\n",
    "        \n",
    "        return output.content\n",
    "    \n",
    "       \n",
    "\n",
    "        \n"
   ]
  },
  {
   "cell_type": "code",
   "execution_count": 441,
   "id": "542551a8-8fea-4bc8-8d6e-9c762a9a6246",
   "metadata": {},
   "outputs": [],
   "source": [
    "# supervisor_agent.invoke(\"Aya, whats the capital of India?\")\n",
    "\n",
    "# aya_agent.invoke(\"Aya, When was SVM invented?\")"
   ]
  },
  {
   "cell_type": "markdown",
   "id": "4eb507cc-9991-44dd-9bce-5efc0cf94902",
   "metadata": {},
   "source": [
    "### Defining Agent Nodes"
   ]
  },
  {
   "cell_type": "code",
   "execution_count": 442,
   "id": "0f0cea0a-da99-4143-aba5-a41dcabd7a4b",
   "metadata": {},
   "outputs": [],
   "source": [
    "def get_aya_node(state, agent, name):\n",
    "\n",
    "    # print(f\"AYA NODE : {len(state['messages'])}\")\n",
    "\n",
    "    latest_message = state[\"messages\"][-1]\n",
    "    # print(f\"AYA STATE: {latest_message}\")\n",
    "\n",
    "    supervisor_agent = SupervisorAgent()\n",
    "    \n",
    "    agent_check = supervisor_agent.invoke(latest_message.content)\n",
    "\n",
    "    if agent_check == 'Aya':\n",
    "        # print(\"Agent check is Aya\")\n",
    "\n",
    "        result = agent.invoke(latest_message.content)\n",
    "\n",
    "        return {\n",
    "        'messages' : [ChatMessage(result, sender = 'Aya')]\n",
    "    }\n",
    "                              \n",
    "    else:\n",
    "        # print(\"Agent check is NULL\")\n",
    "        return {'messages':[]}\n",
    "        \n",
    "\n",
    "def get_user_node(state, agent, name):\n",
    "    # print(f\"USER NODE : {name}  {len(state['messages'])}\")\n",
    "    \n",
    "    # latest_message : ChatMessage\n",
    "    latest_message = state[\"messages\"][-1]\n",
    "    # print(f\"USER STATE: {latest_message}\")\n",
    "\n",
    "    result = agent.invoke(latest_message.message)\n",
    "\n",
    "    # Append the translated result with the sender info\n",
    "    agent.chat_history.append(ChatMessage(result, sender = latest_message.sender))\n",
    "\n",
    "    return {\n",
    "        \"messages\": [],\n",
    "    }\n",
    "\n",
    "    # return {\n",
    "    #     \"messages\": [ChatMessage(result, sender = name)],\n",
    "        \n",
    "    # }\n",
    "\n",
    "def get_supervisor_node(state, agent : SupervisorAgent):\n",
    "\n",
    "    # print(f\"SUPERVISOR NODE : {len(state['messages'])}\")\n",
    "    latest_message = state[\"messages\"][-1]\n",
    "    # print(f\"SUPERVISOR STATE: {latest_message}\")\n",
    "\n",
    "    \n",
    "    \n",
    "\n",
    "    # result = agent.invoke(latest_message.content)\n",
    "\n",
    "    # print(result)\n",
    "\n",
    "    return {'messages': []} \n",
    "\n",
    "\n",
    "french_agent = UserAgent(llm, \"French\")\n",
    "spanish_agent = UserAgent(llm, \"Spanish\")\n",
    "english_agent = UserAgent(llm, \"English\")\n",
    "\n",
    "aya_agent = AyaAgent(llm, retriever)\n",
    "\n",
    "supervisor_agent = SupervisorAgent()\n",
    "\n",
    "french_node = functools.partial(get_user_node, agent=french_agent, name=\"French\")\n",
    "spanish_node = functools.partial(get_user_node, agent=spanish_agent, name=\"Spanish\")\n",
    "english_node = functools.partial(get_user_node, agent=english_agent, name=\"English\")\n",
    "\n",
    "aya_node = functools.partial(get_aya_node, agent = aya_agent, name =\"Aya\")\n",
    "\n",
    "supervisor_node = functools.partial(get_supervisor_node, agent = supervisor_agent)"
   ]
  },
  {
   "cell_type": "code",
   "execution_count": 443,
   "id": "3a226a48-e677-4a0a-9bd6-f4645b995c61",
   "metadata": {},
   "outputs": [],
   "source": [
    "workflow = StateGraph(AgentState)\n",
    "\n",
    "agentList = {'French':{'node':french_node, 'agent':french_agent},\n",
    "                   'Spanish':{'node':spanish_node, 'agent':spanish_agent},\n",
    "                   'English':{'node':english_node, 'agent':english_agent},\n",
    "                   }\n",
    "\n",
    "# agentList = {\n",
    "#                    'English':{'node':english_node, 'agent':english_agent},\n",
    "#                    }\n",
    "                  \n",
    "\n",
    "#Defining nodes\n",
    "for agent in agentList:\n",
    "    workflow.add_node(agent, agentList[agent]['node'])\n",
    "\n",
    "workflow.add_node(\"Supervisor\", supervisor_node)\n",
    "\n",
    "#Defining edges\n",
    "workflow.add_edge(START, \"Supervisor\")\n",
    "\n",
    "for agent in agentList:\n",
    "    workflow.add_edge(\"Supervisor\", agent)\n",
    "    workflow.add_edge(agent, END)\n",
    "\n",
    "\n",
    "workflow.add_node(\"Aya\",aya_node) \n",
    "\n",
    "def router2(state) :\n",
    "    \n",
    "    \n",
    "    last_message = state[\"messages\"][-1]\n",
    "    if last_message.sender == \"Aya\":\n",
    "        # print(\"router2 output : END\")\n",
    "        return \"END\"\n",
    "    else:\n",
    "        # print(\"router2 output : Aya\")\n",
    "        return 'Aya'\n",
    "\n",
    "workflow.add_conditional_edges(\"Supervisor\", router2  ,{'Aya':'Aya','END':END})\n",
    "\n",
    "def router(state) :\n",
    "    # print(\"Within router1\")\n",
    "    \n",
    "    last_message = state[\"messages\"][-1]\n",
    "    if last_message.sender == \"Aya\":\n",
    "        # print(\"router output : Supervisor\")\n",
    "        return \"Supervisor\"\n",
    "    else:\n",
    "        # print(\"router output : END\")\n",
    "        return 'END'\n",
    "        \n",
    "workflow.add_conditional_edges(\"Aya\", router, {'Supervisor':'Supervisor','END':END})\n",
    "   \n",
    "# supervisor_router = functools.partial(router, agent = supervisor_agent)\n",
    "\n",
    "# workflow.add_conditional_edges(\"Supervisor\", supervisor_router, {\"Aya\": \"Aya\", \"skip\": END})\n",
    "\n",
    "\n",
    "app = workflow.compile()\n",
    "\n",
    "french_agent.set_graph(app)\n",
    "spanish_agent.set_graph(app)\n",
    "english_agent.set_graph(app)"
   ]
  },
  {
   "cell_type": "code",
   "execution_count": 444,
   "id": "a7a3ccb9-99ab-4712-ae2a-9b61310e5537",
   "metadata": {},
   "outputs": [
    {
     "name": "stdout",
     "output_type": "stream",
     "text": [
      "Within supervisor agent\n",
      "Hey everyone!\n"
     ]
    },
    {
     "data": {
      "text/plain": [
       "{'messages': [English | Hey everyone!]}"
      ]
     },
     "execution_count": 444,
     "metadata": {},
     "output_type": "execute_result"
    }
   ],
   "source": [
    "english_agent.send_text(\"Hey everyone!\")"
   ]
  },
  {
   "cell_type": "code",
   "execution_count": 445,
   "id": "cbeb4964-125e-4f62-96f9-0022481595f5",
   "metadata": {},
   "outputs": [
    {
     "name": "stdout",
     "output_type": "stream",
     "text": [
      "Within supervisor agent\n",
      "Ey. Lo estoy haciendo bien\n"
     ]
    },
    {
     "data": {
      "text/plain": [
       "{'messages': [Spanish | Ey. Lo estoy haciendo bien]}"
      ]
     },
     "execution_count": 445,
     "metadata": {},
     "output_type": "execute_result"
    }
   ],
   "source": [
    "spanish_agent.send_text(\"Ey. Lo estoy haciendo bien\")"
   ]
  },
  {
   "cell_type": "code",
   "execution_count": 446,
   "id": "9b55694e-6503-49ec-b4ef-e0e43925c457",
   "metadata": {},
   "outputs": [
    {
     "name": "stdout",
     "output_type": "stream",
     "text": [
      "Within supervisor agent\n",
      "Aya, when was SVM invented?\n",
      "Within aya agent\n",
      "Aya, when was SVM invented?\n"
     ]
    },
    {
     "data": {
      "text/plain": [
       "{'messages': [English | Aya, when was SVM invented?,\n",
       "  Aya | Support Vector Machines (SVMs) were invented by researchers at AT&T in 1992.]}"
      ]
     },
     "execution_count": 446,
     "metadata": {},
     "output_type": "execute_result"
    }
   ],
   "source": [
    "english_agent.send_text(\"Aya, when was SVM invented?\")"
   ]
  },
  {
   "cell_type": "code",
   "execution_count": 405,
   "id": "d34c0e88-8729-445c-b1f5-11d0591bb4af",
   "metadata": {},
   "outputs": [
    {
     "name": "stdout",
     "output_type": "stream",
     "text": [
      "SUPERVISOR NODE : 1\n",
      "SUPERVISOR STATE: English | How are you guys doing today?\n",
      "router2 output : Aya\n",
      "USER NODE : English  1\n",
      "USER STATE: English | How are you guys doing today?\n",
      "AYA NODE : 1\n",
      "AYA STATE: English | How are you guys doing today?\n",
      "Within supervisor agent\n",
      "How are you guys doing today?\n",
      "Agent check is NULL\n",
      "Within router1\n",
      "router output : END\n"
     ]
    },
    {
     "data": {
      "text/plain": [
       "{'messages': [English | How are you guys doing today?]}"
      ]
     },
     "execution_count": 405,
     "metadata": {},
     "output_type": "execute_result"
    }
   ],
   "source": [
    "english_agent.send_text(\"How are you guys doing today?\")"
   ]
  },
  {
   "cell_type": "code",
   "execution_count": 447,
   "id": "62a6c437-4887-42cd-ad1f-5c9503bc090f",
   "metadata": {},
   "outputs": [
    {
     "name": "stdout",
     "output_type": "stream",
     "text": [
      "English : Hey everyone!\n",
      "Spanish : Hey. I'm doing it right.\n",
      "English : Aya, when was SVM invented?\n",
      "Aya : Support Vector Machines (SVMs) were invented by researchers at AT&T in 1992.\n"
     ]
    }
   ],
   "source": [
    "english_agent.display_chat_history(content_only=True)"
   ]
  },
  {
   "cell_type": "code",
   "execution_count": 448,
   "id": "7ff1de90-02cc-4568-bed8-55cc0ac55967",
   "metadata": {},
   "outputs": [
    {
     "name": "stdout",
     "output_type": "stream",
     "text": [
      "English : ¡Hola a todos!\n",
      "Spanish : Ey. Lo estoy haciendo bien\n",
      "English : Aya, ¿cuándo se inventó SVM?\n",
      "Aya : Las Máquinas de Vectores de Soporte (SVMs) fueron inventadas por investigadores de AT&T en 1992.\n"
     ]
    }
   ],
   "source": [
    "spanish_agent.display_chat_history(content_only=True)"
   ]
  },
  {
   "cell_type": "code",
   "execution_count": 449,
   "id": "46eaaf4f-6e76-45fa-accd-af41c824634d",
   "metadata": {},
   "outputs": [
    {
     "name": "stdout",
     "output_type": "stream",
     "text": [
      "English : Salut tout le monde!\n",
      "Spanish : Ey. Je le fais bien\n",
      "English : Aya, quand le SVM a-t-il été inventé?\n",
      "Aya : Les Machines à Vecteurs de Support (SVMs) ont été inventées par des chercheurs d'AT&T en 1992.\n"
     ]
    }
   ],
   "source": [
    "french_agent.display_chat_history(content_only=True)"
   ]
  },
  {
   "cell_type": "code",
   "execution_count": 415,
   "id": "264617cc-97fb-443e-b41e-ebe458c4c8f3",
   "metadata": {},
   "outputs": [
    {
     "data": {
      "image/jpeg": "[encoded data removed]",
      "text/plain": [
       "<IPython.core.display.Image object>"
      ]
     },
     "metadata": {},
     "output_type": "display_data"
    }
   ],
   "source": [
    "from IPython.display import Image, display\n",
    "from langchain_core.runnables.graph import CurveStyle, MermaidDrawMethod, NodeColors\n",
    "\n",
    "display(\n",
    "    Image(\n",
    "        app.get_graph().draw_mermaid_png(\n",
    "            draw_method=MermaidDrawMethod.API,\n",
    "        )\n",
    "    )\n",
    ")"
   ]
  }
 ],
 "metadata": {
  "kernelspec": {
   "display_name": "Python 3 (ipykernel)",
   "language": "python",
   "name": "python3"
  },
  "language_info": {
   "codemirror_mode": {
    "name": "ipython",
    "version": 3
   },
   "file_extension": ".py",
   "mimetype": "text/x-python",
   "name": "python",
   "nbconvert_exporter": "python",
   "pygments_lexer": "ipython3",
   "version": "3.11.8"
  }
 },
 "nbformat": 4,
 "nbformat_minor": 5
}
