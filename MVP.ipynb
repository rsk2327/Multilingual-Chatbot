{
 "cells": [
  {
   "cell_type": "code",
   "execution_count": 13,
   "id": "cf29666d-aca6-4164-8e5c-c345683765bd",
   "metadata": {},
   "outputs": [],
   "source": [
    "import os\n",
    "import getpass\n",
    "from langchain.agents import create_openai_functions_agent\n",
    "from langchain_openai.chat_models import ChatOpenAI\n",
    "from langchain_core.prompts import ChatPromptTemplate, MessagesPlaceholder\n",
    "from langgraph.graph import END, StateGraph, START\n",
    "import functools\n",
    "from typing import TypedDict, Annotated, Sequence\n",
    "import operator\n",
    "from langchain_core.messages import BaseMessage, HumanMessage"
   ]
  },
  {
   "cell_type": "code",
   "execution_count": 3,
   "id": "04107504-7dae-474b-9527-7427edb6dbee",
   "metadata": {},
   "outputs": [],
   "source": [
    "llm = ChatOpenAI(model=\"gpt-3.5-turbo-1106\", streaming=True)"
   ]
  },
  {
   "cell_type": "code",
   "execution_count": 2,
   "id": "41021af1-837c-40af-8904-411f81b69cce",
   "metadata": {},
   "outputs": [],
   "source": [
    "os.environ[\"LANGCHAIN_TRACING_V2\"] = \"true\"\n",
    "os.environ[\"LANGCHAIN_API_KEY\"] = \"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\""
   ]
  },
  {
   "cell_type": "markdown",
   "id": "32920c2f-5c07-4228-8ba4-1113311a3d64",
   "metadata": {},
   "source": [
    "### Defining Agent State"
   ]
  },
  {
   "cell_type": "code",
   "execution_count": 4,
   "id": "3e7ab32c-907e-4d68-9929-15689920f273",
   "metadata": {},
   "outputs": [],
   "source": [
    "class AgentState(TypedDict):\n",
    "    messages: Annotated[Sequence[BaseMessage], operator.add]\n",
    "    sender: Annotated[str, operator.setitem]"
   ]
  },
  {
   "cell_type": "code",
   "execution_count": 27,
   "id": "acb3db71-23d8-4d38-b8cf-973185530b21",
   "metadata": {},
   "outputs": [],
   "source": [
    "USER_SYSTEM_PROMPT = \"\"\"You are a translator. Translate the text provided by the user into {user_language}. Output only the \n",
    "    translated text. If the text is already in {user_language}, return the user's text as it is.\n",
    "\"\"\"\n",
    "\n",
    "\n",
    "class UserAgent(object):\n",
    "\n",
    "    def __init__(self, llm, prompt):\n",
    "        self.llm = llm\n",
    "        self.prompt = prompt\n",
    "        self.chain = prompt | llm\n",
    "        self.chat_history = []\n",
    "\n",
    "\n",
    "    def set_graph(self, graph):\n",
    "        self.graph = graph\n",
    "\n",
    "    def send_text(self,text):\n",
    "\n",
    "        inputs = {\"messages\": [HumanMessage(content=text)]}\n",
    "        output = self.graph.invoke(inputs)\n",
    "        \n",
    "        return output\n",
    "\n",
    "    def display_chat_history(self):\n",
    "\n",
    "        for i in self.chat_history:\n",
    "            print(i)\n",
    "\n",
    "    \n",
    "    def invoke(self, user_text):\n",
    "\n",
    "        output = self.chain.invoke({'user_text':[user_text]})\n",
    "\n",
    "        return output\n",
    "            \n",
    "        \n",
    "def create_user_agent(llm, user_language):\n",
    "\n",
    "    system_prompt = USER_SYSTEM_PROMPT.format(user_language = user_language)\n",
    "    \n",
    "    prompt = ChatPromptTemplate.from_messages(\n",
    "        [\n",
    "            (\n",
    "                \"system\", system_prompt,\n",
    "            ),\n",
    "            MessagesPlaceholder(variable_name = 'user_text'),\n",
    "        ]\n",
    "    )\n",
    "\n",
    "    agent = UserAgent(llm, prompt)\n",
    "\n",
    "    return agent\n",
    "    \n",
    "    \n",
    "    "
   ]
  },
  {
   "cell_type": "code",
   "execution_count": 32,
   "id": "b3d9df60-fc24-46e3-a1c3-919dd2930405",
   "metadata": {},
   "outputs": [],
   "source": [
    "french_agent = create_user_agent(llm, \"French\")\n",
    "spanish_agent = create_user_agent(llm, \"Spanish\")\n",
    "english_agent = create_user_agent(llm, \"English\")"
   ]
  },
  {
   "cell_type": "markdown",
   "id": "4eb507cc-9991-44dd-9bce-5efc0cf94902",
   "metadata": {},
   "source": [
    "### Defining Agent Nodes"
   ]
  },
  {
   "cell_type": "code",
   "execution_count": 33,
   "id": "0f0cea0a-da99-4143-aba5-a41dcabd7a4b",
   "metadata": {},
   "outputs": [],
   "source": [
    "def user_node(state, agent, name):\n",
    "\n",
    "    latest_message = state[\"messages\"][-1]\n",
    "    print(latest_message)\n",
    "    result = agent.invoke(latest_message.content)\n",
    "    \n",
    "    agent.chat_history.append(result.content)\n",
    "\n",
    "    return {\n",
    "        \"messages\": [result],\n",
    "    }\n",
    "\n",
    "french_node = functools.partial(user_node, agent=french_agent, name=\"French\")\n",
    "spanish_node = functools.partial(user_node, agent=spanish_agent, name=\"Spanish\")\n",
    "english_node = functools.partial(user_node, agent=english_agent, name=\"Spanish\")\n"
   ]
  },
  {
   "cell_type": "code",
   "execution_count": 34,
   "id": "6b066801-1dee-40e9-b0cd-8d05da8471c5",
   "metadata": {},
   "outputs": [],
   "source": [
    "def supervisor_node(state):\n",
    "    print(\"in supervisor\")\n",
    "    print(state)\n",
    "    \n",
    "    return {'messages': [],\n",
    "           # 'sender':\"Supervisor\",\n",
    "           } "
   ]
  },
  {
   "cell_type": "code",
   "execution_count": 35,
   "id": "3a226a48-e677-4a0a-9bd6-f4645b995c61",
   "metadata": {},
   "outputs": [],
   "source": [
    "workflow = StateGraph(AgentState)\n",
    "\n",
    "agentList = {'French':{'node':french_node, 'agent':french_agent},\n",
    "                   'Spanish':{'node':spanish_node, 'agent':spanish_agent},\n",
    "                   'English':{'node':english_node, 'agent':english_agent},\n",
    "                   }\n",
    "                  \n",
    "\n",
    "#Defining nodes\n",
    "for agent in agentList:\n",
    "    workflow.add_node(agent, agentList[agent]['node'])\n",
    "\n",
    "workflow.add_node(\"Supervisor\", supervisor_node)\n",
    "\n",
    "#Defining edges\n",
    "workflow.add_edge(START, \"Supervisor\")\n",
    "\n",
    "for agent in agentList:\n",
    "    workflow.add_edge(\"Supervisor\", agent)\n",
    "    workflow.add_edge(agent, END)\n",
    "\n"
   ]
  },
  {
   "cell_type": "code",
   "execution_count": 36,
   "id": "e83a785b-2949-4456-9422-cbf2dd7ee178",
   "metadata": {},
   "outputs": [],
   "source": [
    "app = workflow.compile()"
   ]
  },
  {
   "cell_type": "code",
   "execution_count": 37,
   "id": "1107d8a3-54ca-4120-828b-0f695eee48df",
   "metadata": {},
   "outputs": [],
   "source": [
    "french_agent.set_graph(app)\n",
    "spanish_agent.set_graph(app)\n",
    "english_agent.set_graph(app)"
   ]
  },
  {
   "cell_type": "code",
   "execution_count": 38,
   "id": "b1f2c1fd-4489-416d-8fe4-7cfda5bccec0",
   "metadata": {},
   "outputs": [
    {
     "name": "stdout",
     "output_type": "stream",
     "text": [
      "in supervisor\n",
      "{'messages': [HumanMessage(content='hey there!')], 'sender': None}\n",
      "content='hey there!'\n",
      "content='hey there!'\n",
      "content='hey there!'\n"
     ]
    },
    {
     "data": {
      "text/plain": [
       "{'messages': [HumanMessage(content='hey there!'),\n",
       "  AIMessage(content='hey là-bas!', response_metadata={'finish_reason': 'stop'}, id='run-e5819d2c-ef73-448f-9591-0d6c80dc025f-0'),\n",
       "  AIMessage(content='¡Hola!', response_metadata={'finish_reason': 'stop'}, id='run-4464ac30-8c50-4c5a-926f-4f6e158d3c0e-0'),\n",
       "  AIMessage(content='hey there!', response_metadata={'finish_reason': 'stop'}, id='run-a65b46a1-7100-4794-8018-382eb19699a6-0')]}"
      ]
     },
     "execution_count": 38,
     "metadata": {},
     "output_type": "execute_result"
    }
   ],
   "source": [
    "english_agent.send_text(\"hey there!\")"
   ]
  },
  {
   "cell_type": "code",
   "execution_count": 39,
   "id": "1ad3f7c0-af4c-4c30-baf6-a09d98b4d648",
   "metadata": {},
   "outputs": [
    {
     "name": "stdout",
     "output_type": "stream",
     "text": [
      "in supervisor\n",
      "{'messages': [HumanMessage(content='How are you?')], 'sender': None}\n",
      "content='How are you?'\n",
      "content='How are you?'\n",
      "content='How are you?'\n"
     ]
    },
    {
     "data": {
      "text/plain": [
       "{'messages': [HumanMessage(content='How are you?'),\n",
       "  AIMessage(content='Comment vas-tu ?', response_metadata={'finish_reason': 'stop'}, id='run-62452744-032f-4a7a-b960-d275ee4dcc3b-0'),\n",
       "  AIMessage(content='¿Cómo estás?', response_metadata={'finish_reason': 'stop'}, id='run-847b6142-cae7-4ec4-a1c8-3c1ebe2a3ff4-0'),\n",
       "  AIMessage(content='How are you?', response_metadata={'finish_reason': 'stop'}, id='run-d1a2a68f-fb67-4882-b053-5dcd62dbb264-0')]}"
      ]
     },
     "execution_count": 39,
     "metadata": {},
     "output_type": "execute_result"
    }
   ],
   "source": [
    "english_agent.send_text(\"How are you?\")"
   ]
  },
  {
   "cell_type": "code",
   "execution_count": 40,
   "id": "0d3c0ea8-3869-4e2b-bb19-feffef27d8a9",
   "metadata": {},
   "outputs": [
    {
     "name": "stdout",
     "output_type": "stream",
     "text": [
      "in supervisor\n",
      "{'messages': [HumanMessage(content='lo estoy haciendo bien. ¿Y tú?')], 'sender': None}\n",
      "content='lo estoy haciendo bien. ¿Y tú?'\n",
      "content='lo estoy haciendo bien. ¿Y tú?'\n",
      "content='lo estoy haciendo bien. ¿Y tú?'\n"
     ]
    },
    {
     "data": {
      "text/plain": [
       "{'messages': [HumanMessage(content='lo estoy haciendo bien. ¿Y tú?'),\n",
       "  AIMessage(content='Je le fais bien. Et toi?', response_metadata={'finish_reason': 'stop'}, id='run-0404cc91-b7fc-465a-bba7-c635dcb1a817-0'),\n",
       "  AIMessage(content=\"I'm doing well. And you?\", response_metadata={'finish_reason': 'stop'}, id='run-691655aa-49bf-4fd4-b472-8293f85bfb41-0'),\n",
       "  AIMessage(content=\"I'm doing well. And you?\", response_metadata={'finish_reason': 'stop'}, id='run-99668afc-8f36-49b2-8a45-a027e04729aa-0')]}"
      ]
     },
     "execution_count": 40,
     "metadata": {},
     "output_type": "execute_result"
    }
   ],
   "source": [
    "spanish_agent.send_text(\"lo estoy haciendo bien. ¿Y tú?\")"
   ]
  },
  {
   "cell_type": "code",
   "execution_count": 41,
   "id": "71096853-db56-4894-b35d-17f5bb156075",
   "metadata": {},
   "outputs": [
    {
     "name": "stdout",
     "output_type": "stream",
     "text": [
      "in supervisor\n",
      "{'messages': [HumanMessage(content=\"tu viens au bureau aujourd'hui ?\")], 'sender': None}\n",
      "content=\"tu viens au bureau aujourd'hui ?\"\n",
      "content=\"tu viens au bureau aujourd'hui ?\"\n",
      "content=\"tu viens au bureau aujourd'hui ?\"\n"
     ]
    },
    {
     "data": {
      "text/plain": [
       "{'messages': [HumanMessage(content=\"tu viens au bureau aujourd'hui ?\"),\n",
       "  AIMessage(content='Are you coming to the office today?', response_metadata={'finish_reason': 'stop'}, id='run-397fd6a5-4f28-4051-b750-53735dcf2576-0'),\n",
       "  AIMessage(content='¿Vas a venir a la oficina hoy?', response_metadata={'finish_reason': 'stop'}, id='run-15e3a62a-b7d9-4c8c-ac03-751a5907f57d-0'),\n",
       "  AIMessage(content='Are you coming to the office today?', response_metadata={'finish_reason': 'stop'}, id='run-49669e85-e1d8-4461-bc05-b0d8288a8a02-0')]}"
      ]
     },
     "execution_count": 41,
     "metadata": {},
     "output_type": "execute_result"
    }
   ],
   "source": [
    "french_agent.send_text(\"tu viens au bureau aujourd'hui ?\")"
   ]
  },
  {
   "cell_type": "code",
   "execution_count": 42,
   "id": "7fdc4267-47ff-43e1-9b7b-faf1ebe649e9",
   "metadata": {},
   "outputs": [
    {
     "name": "stdout",
     "output_type": "stream",
     "text": [
      "¡Hola!\n",
      "¿Cómo estás?\n",
      "I'm doing well. And you?\n",
      "¿Vas a venir a la oficina hoy?\n"
     ]
    }
   ],
   "source": [
    "spanish_agent.display_chat_history()"
   ]
  },
  {
   "cell_type": "code",
   "execution_count": 43,
   "id": "f9f6d94a-754e-4818-b068-f86a9abc1343",
   "metadata": {},
   "outputs": [
    {
     "name": "stdout",
     "output_type": "stream",
     "text": [
      "hey there!\n",
      "How are you?\n",
      "I'm doing well. And you?\n",
      "Are you coming to the office today?\n"
     ]
    }
   ],
   "source": [
    "english_agent.display_chat_history()"
   ]
  },
  {
   "cell_type": "code",
   "execution_count": 44,
   "id": "8effb61b-c11e-4da5-a6c0-d6905f93b253",
   "metadata": {},
   "outputs": [
    {
     "name": "stdout",
     "output_type": "stream",
     "text": [
      "hey là-bas!\n",
      "Comment vas-tu ?\n",
      "Je le fais bien. Et toi?\n",
      "Are you coming to the office today?\n"
     ]
    }
   ],
   "source": [
    "french_agent.display_chat_history()"
   ]
  },
  {
   "cell_type": "code",
   "execution_count": null,
   "id": "6c289323-18ae-46f0-90c6-cfed07039697",
   "metadata": {},
   "outputs": [],
   "source": []
  },
  {
   "cell_type": "code",
   "execution_count": null,
   "id": "ea6f7b86-ec25-422c-92f8-5b789d3d84b6",
   "metadata": {},
   "outputs": [],
   "source": []
  },
  {
   "cell_type": "code",
   "execution_count": null,
   "id": "366bb9fc-027e-496c-b0bc-942482fc0f69",
   "metadata": {},
   "outputs": [],
   "source": []
  },
  {
   "cell_type": "code",
   "execution_count": null,
   "id": "073beb14-68d6-4de8-817a-2d0948c03561",
   "metadata": {},
   "outputs": [],
   "source": []
  }
 ],
 "metadata": {
  "kernelspec": {
   "display_name": "Python 3 (ipykernel)",
   "language": "python",
   "name": "python3"
  },
  "language_info": {
   "codemirror_mode": {
    "name": "ipython",
    "version": 3
   },
   "file_extension": ".py",
   "mimetype": "text/x-python",
   "name": "python",
   "nbconvert_exporter": "python",
   "pygments_lexer": "ipython3",
   "version": "3.11.8"
  }
 },
 "nbformat": 4,
 "nbformat_minor": 5
}
