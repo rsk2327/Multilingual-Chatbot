{
 "cells": [
  {
   "cell_type": "code",
   "execution_count": 83,
   "id": "cf29666d-aca6-4164-8e5c-c345683765bd",
   "metadata": {},
   "outputs": [],
   "source": [
    "import os\n",
    "import getpass\n",
    "from langchain.agents import create_openai_functions_agent\n",
    "from langchain_openai.chat_models import ChatOpenAI\n",
    "from langchain_core.prompts import ChatPromptTemplate, MessagesPlaceholder\n",
    "from langgraph.graph import END, StateGraph, START\n",
    "import functools\n",
    "from typing import TypedDict, Annotated, Sequence\n",
    "import operator\n",
    "from langchain_core.messages import BaseMessage"
   ]
  },
  {
   "cell_type": "code",
   "execution_count": 2,
   "id": "04107504-7dae-474b-9527-7427edb6dbee",
   "metadata": {},
   "outputs": [],
   "source": [
    "llm = ChatOpenAI(model=\"gpt-3.5-turbo-1106\", streaming=True)"
   ]
  },
  {
   "cell_type": "code",
   "execution_count": null,
   "id": "41021af1-837c-40af-8904-411f81b69cce",
   "metadata": {},
   "outputs": [],
   "source": [
    "operator."
   ]
  },
  {
   "cell_type": "markdown",
   "id": "32920c2f-5c07-4228-8ba4-1113311a3d64",
   "metadata": {},
   "source": [
    "### Defining Agent State"
   ]
  },
  {
   "cell_type": "code",
   "execution_count": 143,
   "id": "3e7ab32c-907e-4d68-9929-15689920f273",
   "metadata": {},
   "outputs": [],
   "source": [
    "class AgentState(TypedDict):\n",
    "    messages: Annotated[Sequence[BaseMessage], operator.add]\n",
    "    sender: Annotated[str, operator.setitem]"
   ]
  },
  {
   "cell_type": "code",
   "execution_count": 207,
   "id": "acb3db71-23d8-4d38-b8cf-973185530b21",
   "metadata": {},
   "outputs": [],
   "source": [
    "USER_SYSTEM_PROMPT = \"\"\"You are a translator. Translate the text provided by the user into {user_language}. Output only the \n",
    "    translated text. If the text is already in {user_language}, return the user's text as it is.\n",
    "\"\"\"\n",
    "\n",
    "\n",
    "class UserAgent(object):\n",
    "\n",
    "    def __init__(self, llm, prompt):\n",
    "        self.llm = llm\n",
    "        self.prompt = prompt\n",
    "        self.chain = prompt | llm\n",
    "        self.chat_history = []\n",
    "\n",
    "\n",
    "    def set_graph(self, graph):\n",
    "        self.graph = graph\n",
    "\n",
    "    def send_text(self,text):\n",
    "\n",
    "        inputs = {\"messages\": [HumanMessage(content=text)]}\n",
    "        output = self.graph.invoke(inputs)\n",
    "        \n",
    "        return output\n",
    "\n",
    "    def display_chat_history(self):\n",
    "\n",
    "        for i in range(self.chat_history):\n",
    "            print(i)\n",
    "\n",
    "    \n",
    "    def invoke(self, user_text):\n",
    "\n",
    "        output = self.chain.invoke({'user_text':[user_text]})\n",
    "\n",
    "        return output\n",
    "            \n",
    "        \n",
    "def create_user_agent(llm, user_language):\n",
    "\n",
    "    system_prompt = USER_SYSTEM_PROMPT.format(user_language = user_language)\n",
    "    \n",
    "    prompt = ChatPromptTemplate.from_messages(\n",
    "        [\n",
    "            (\n",
    "                \"system\", system_prompt,\n",
    "            ),\n",
    "            MessagesPlaceholder(variable_name = 'user_text'),\n",
    "        ]\n",
    "    )\n",
    "\n",
    "    agent = UserAgent(llm, prompt)\n",
    "\n",
    "    return agent\n",
    "    \n",
    "    \n",
    "    "
   ]
  },
  {
   "cell_type": "code",
   "execution_count": 208,
   "id": "b3d9df60-fc24-46e3-a1c3-919dd2930405",
   "metadata": {},
   "outputs": [],
   "source": [
    "french_agent = create_user_agent(llm, \"French\")\n",
    "spanish_agent = create_user_agent(llm, \"Spanish\")\n",
    "english_agent = create_user_agent(llm, \"English\")"
   ]
  },
  {
   "cell_type": "code",
   "execution_count": null,
   "id": "fc6b8bcb-7ee2-40fb-9bd3-baadb49ceb91",
   "metadata": {},
   "outputs": [],
   "source": []
  },
  {
   "cell_type": "code",
   "execution_count": 209,
   "id": "c6a74716-eeff-4441-8a4c-8e0cff187c8f",
   "metadata": {},
   "outputs": [
    {
     "data": {
      "text/plain": [
       "AIMessage(content='Quel est votre nom ?', response_metadata={'finish_reason': 'stop'}, id='run-95f15556-bed2-4b80-80ff-8af432ffadc2-0')"
      ]
     },
     "execution_count": 209,
     "metadata": {},
     "output_type": "execute_result"
    }
   ],
   "source": [
    "french_agent.invoke('What is your name?')"
   ]
  },
  {
   "cell_type": "code",
   "execution_count": 18,
   "id": "5ebdde53-6ec7-420b-8e5f-ca769eed1f53",
   "metadata": {},
   "outputs": [
    {
     "data": {
      "text/plain": [
       "ChatPromptTemplate(input_variables=[], messages=[SystemMessagePromptTemplate(prompt=PromptTemplate(input_variables=[], template=\"You are a translator. Translate the text provided by the user into French. Output only the \\n    translated text. If the text is already in French, return the user's text as it is.\\n\"))])"
      ]
     },
     "execution_count": 18,
     "metadata": {},
     "output_type": "execute_result"
    }
   ],
   "source": [
    "prompt"
   ]
  },
  {
   "cell_type": "code",
   "execution_count": 22,
   "id": "798a171f-c5c9-4372-8cf1-353326766d30",
   "metadata": {},
   "outputs": [],
   "source": [
    "system_prompt = USER_SYSTEM_PROMPT.format(user_language = user_language)\n",
    "    \n",
    "prompt = ChatPromptTemplate.from_messages(\n",
    "        [\n",
    "            (\n",
    "                \"system\", system_prompt,\n",
    "            ),\n",
    "            MessagesPlaceholder(variable_name = 'user_text'),\n",
    "        ]\n",
    "    )"
   ]
  },
  {
   "cell_type": "code",
   "execution_count": 24,
   "id": "d8dbca51-8b0a-4ca2-99b8-89758aceb59c",
   "metadata": {},
   "outputs": [
    {
     "data": {
      "text/plain": [
       "ChatPromptValue(messages=[SystemMessage(content=\"You are a translator. Translate the text provided by the user into French. Output only the \\n    translated text. If the text is already in French, return the user's text as it is.\\n\"), HumanMessage(content='What is your name?')])"
      ]
     },
     "execution_count": 24,
     "metadata": {},
     "output_type": "execute_result"
    }
   ],
   "source": [
    "prompt.invoke({'user_text':['What is your name?']})"
   ]
  },
  {
   "cell_type": "code",
   "execution_count": 25,
   "id": "85d59a36-7773-489b-bfd6-4ec6d7d040c7",
   "metadata": {},
   "outputs": [],
   "source": [
    "chain = prompt | llm"
   ]
  },
  {
   "cell_type": "code",
   "execution_count": 26,
   "id": "e8bfef2a-49c2-4888-a613-9bb4b9939fd7",
   "metadata": {},
   "outputs": [
    {
     "data": {
      "text/plain": [
       "AIMessage(content='Quel est ton nom ?', response_metadata={'finish_reason': 'stop'}, id='run-6cf9fd5d-39f4-49a6-a3df-2b78f74fa40d-0')"
      ]
     },
     "execution_count": 26,
     "metadata": {},
     "output_type": "execute_result"
    }
   ],
   "source": [
    "chain.invoke({'user_text':['What is your name?']})"
   ]
  },
  {
   "cell_type": "markdown",
   "id": "4eb507cc-9991-44dd-9bce-5efc0cf94902",
   "metadata": {},
   "source": [
    "### Defining Agent Nodes"
   ]
  },
  {
   "cell_type": "code",
   "execution_count": 210,
   "id": "0f0cea0a-da99-4143-aba5-a41dcabd7a4b",
   "metadata": {},
   "outputs": [],
   "source": [
    "def user_node(state, agent, name):\n",
    "\n",
    "    latest_message = state[\"messages\"][-1]\n",
    "    print(latest_message)\n",
    "    result = agent.invoke(latest_message.content)\n",
    "    \n",
    "    agent.chat_history.append(result.content)\n",
    "    # We convert the agent output into a format that is suitable to append to the global state\n",
    "    # if isinstance(result, ToolMessage):\n",
    "    #     pass\n",
    "    # else:\n",
    "    #     result = AIMessage(**result.dict(exclude={\"type\", \"name\"}), name=name)\n",
    "    return {\n",
    "        \"messages\": [result],\n",
    "        # Since we have a strict workflow, we can\n",
    "        # track the sender so we know who to pass to next.\n",
    "        # \"sender\": name,\n",
    "    }\n",
    "\n",
    "french_node = functools.partial(user_node, agent=french_agent, name=\"French\")\n",
    "spanish_node = functools.partial(user_node, agent=spanish_agent, name=\"Spanish\")\n",
    "english_node = functools.partial(user_node, agent=english_agent, name=\"Spanish\")\n"
   ]
  },
  {
   "cell_type": "code",
   "execution_count": 211,
   "id": "6b066801-1dee-40e9-b0cd-8d05da8471c5",
   "metadata": {},
   "outputs": [],
   "source": [
    "def supervisor_node(state):\n",
    "    print(\"in supervisor\")\n",
    "    print(state)\n",
    "    \n",
    "    return {'messages': [],\n",
    "           # 'sender':\"Supervisor\",\n",
    "           }\n",
    "\n",
    "    "
   ]
  },
  {
   "cell_type": "code",
   "execution_count": 212,
   "id": "3a226a48-e677-4a0a-9bd6-f4645b995c61",
   "metadata": {},
   "outputs": [],
   "source": [
    "workflow = StateGraph(AgentState)\n",
    "\n",
    "agentList = {'French':{'node':french_node, 'agent':french_agent},\n",
    "                   'Spanish':{'node':spanish_node, 'agent':spanish_agent},\n",
    "                   'English':{'node':english_node, 'agent':english_agent},\n",
    "                   }\n",
    "                  \n",
    "\n",
    "#Defining nodes\n",
    "for agent in agentList:\n",
    "    workflow.add_node(agent, agentList[agent]['node'])\n",
    "\n",
    "workflow.add_node(\"Supervisor\", supervisor_node)\n",
    "\n",
    "#Defining edges\n",
    "workflow.add_edge(START, \"Supervisor\")\n",
    "\n",
    "for agent in agentList:\n",
    "    workflow.add_edge(\"Supervisor\", agent)\n",
    "    workflow.add_edge(agent, END)\n",
    "\n"
   ]
  },
  {
   "cell_type": "code",
   "execution_count": 213,
   "id": "e83a785b-2949-4456-9422-cbf2dd7ee178",
   "metadata": {},
   "outputs": [],
   "source": [
    "app = workflow.compile()"
   ]
  },
  {
   "cell_type": "code",
   "execution_count": 214,
   "id": "1107d8a3-54ca-4120-828b-0f695eee48df",
   "metadata": {},
   "outputs": [],
   "source": [
    "french_agent.set_graph(app)\n",
    "spanish_agent.set_graph(app)\n",
    "english_agent.set_graph(app)"
   ]
  },
  {
   "cell_type": "code",
   "execution_count": 215,
   "id": "b1f2c1fd-4489-416d-8fe4-7cfda5bccec0",
   "metadata": {},
   "outputs": [
    {
     "name": "stdout",
     "output_type": "stream",
     "text": [
      "in supervisor\n",
      "{'messages': [HumanMessage(content='hey there!')], 'sender': None}\n",
      "content='hey there!'\n",
      "content='hey there!'\n",
      "content='hey there!'\n"
     ]
    },
    {
     "data": {
      "text/plain": [
       "{'messages': [HumanMessage(content='hey there!'),\n",
       "  AIMessage(content='hey là!', response_metadata={'finish_reason': 'stop'}, id='run-7f5062d8-a2ba-4606-bebe-770a62c02cab-0'),\n",
       "  AIMessage(content='¡Hola!', response_metadata={'finish_reason': 'stop'}, id='run-d0164360-0aca-4658-8838-e2850ce4a1dd-0'),\n",
       "  AIMessage(content='hey there!', response_metadata={'finish_reason': 'stop'}, id='run-db5227a1-0c68-4d94-9eab-fe16a95374c4-0')]}"
      ]
     },
     "execution_count": 215,
     "metadata": {},
     "output_type": "execute_result"
    }
   ],
   "source": [
    "english_agent.send_text(\"hey there!\")"
   ]
  },
  {
   "cell_type": "code",
   "execution_count": 216,
   "id": "1ad3f7c0-af4c-4c30-baf6-a09d98b4d648",
   "metadata": {},
   "outputs": [
    {
     "name": "stdout",
     "output_type": "stream",
     "text": [
      "in supervisor\n",
      "{'messages': [HumanMessage(content='How are you?')], 'sender': None}\n",
      "content='How are you?'\n",
      "content='How are you?'\n",
      "content='How are you?'\n"
     ]
    },
    {
     "data": {
      "text/plain": [
       "{'messages': [HumanMessage(content='How are you?'),\n",
       "  AIMessage(content='Comment vas-tu?', response_metadata={'finish_reason': 'stop'}, id='run-c2d82c5a-c433-4b2d-901e-3969541adc9b-0'),\n",
       "  AIMessage(content='¿Cómo estás?', response_metadata={'finish_reason': 'stop'}, id='run-9adb3859-7775-493d-9c2d-5c340e64c413-0'),\n",
       "  AIMessage(content='How are you?', response_metadata={'finish_reason': 'stop'}, id='run-23ac83f4-9e95-4488-b34b-23ba609c2b5a-0')]}"
      ]
     },
     "execution_count": 216,
     "metadata": {},
     "output_type": "execute_result"
    }
   ],
   "source": [
    "english_agent.send_text(\"How are you?\")"
   ]
  },
  {
   "cell_type": "code",
   "execution_count": 217,
   "id": "7fdc4267-47ff-43e1-9b7b-faf1ebe649e9",
   "metadata": {},
   "outputs": [
    {
     "data": {
      "text/plain": [
       "['¡Hola!', '¿Cómo estás?']"
      ]
     },
     "execution_count": 217,
     "metadata": {},
     "output_type": "execute_result"
    }
   ],
   "source": [
    "spanish_agent.chat_history"
   ]
  },
  {
   "cell_type": "code",
   "execution_count": 218,
   "id": "f9f6d94a-754e-4818-b068-f86a9abc1343",
   "metadata": {},
   "outputs": [
    {
     "name": "stdout",
     "output_type": "stream",
     "text": [
      "in supervisor\n",
      "{'messages': [HumanMessage(content='lo estoy haciendo bien. ¿Y tú?')], 'sender': None}\n",
      "content='lo estoy haciendo bien. ¿Y tú?'\n",
      "content='lo estoy haciendo bien. ¿Y tú?'\n",
      "content='lo estoy haciendo bien. ¿Y tú?'\n"
     ]
    },
    {
     "data": {
      "text/plain": [
       "{'messages': [HumanMessage(content='lo estoy haciendo bien. ¿Y tú?'),\n",
       "  AIMessage(content='Je le fais bien. Et toi?', response_metadata={'finish_reason': 'stop'}, id='run-9258ea47-ed52-4bf2-8fed-066983d56768-0'),\n",
       "  AIMessage(content=\"I'm doing well. And you?\", response_metadata={'finish_reason': 'stop'}, id='run-c3cd1eec-db2f-41d4-bf29-efca0e7a9fcd-0'),\n",
       "  AIMessage(content='I am doing well. And you?', response_metadata={'finish_reason': 'stop'}, id='run-717e2374-fc9d-4592-a687-41022de18419-0')]}"
      ]
     },
     "execution_count": 218,
     "metadata": {},
     "output_type": "execute_result"
    }
   ],
   "source": [
    "spanish_agent.send_text(\"lo estoy haciendo bien. ¿Y tú?\")"
   ]
  },
  {
   "cell_type": "code",
   "execution_count": 219,
   "id": "8effb61b-c11e-4da5-a6c0-d6905f93b253",
   "metadata": {},
   "outputs": [
    {
     "data": {
      "text/plain": [
       "['hey there!', 'How are you?', 'I am doing well. And you?']"
      ]
     },
     "execution_count": 219,
     "metadata": {},
     "output_type": "execute_result"
    }
   ],
   "source": [
    "english_agent.chat_history"
   ]
  },
  {
   "cell_type": "code",
   "execution_count": 220,
   "id": "0aa1e3ac-7e11-481f-bb81-b5380f636e8f",
   "metadata": {},
   "outputs": [
    {
     "data": {
      "text/plain": [
       "['¡Hola!', '¿Cómo estás?', \"I'm doing well. And you?\"]"
      ]
     },
     "execution_count": 220,
     "metadata": {},
     "output_type": "execute_result"
    }
   ],
   "source": [
    "spanish_agent.chat_history"
   ]
  },
  {
   "cell_type": "code",
   "execution_count": 162,
   "id": "242afc73-8dbc-4d21-8d9c-14cbfa033c52",
   "metadata": {},
   "outputs": [
    {
     "name": "stdout",
     "output_type": "stream",
     "text": [
      "in supervisor\n",
      "{'messages': [HumanMessage(content='hey there!')], 'sender': None}\n",
      "content='hey there!'\n",
      "content='hey there!'\n"
     ]
    },
    {
     "data": {
      "text/plain": [
       "{'messages': [HumanMessage(content='hey there!'),\n",
       "  AIMessage(content='hey là!', response_metadata={'finish_reason': 'stop'}, id='run-14b74227-571c-4a93-8b9d-ce73eae5c2c9-0'),\n",
       "  AIMessage(content='¡Hola!', response_metadata={'finish_reason': 'stop'}, id='run-e02926e4-9638-464a-9883-7f38acfd9f92-0')]}"
      ]
     },
     "execution_count": 162,
     "metadata": {},
     "output_type": "execute_result"
    }
   ],
   "source": [
    "inputs = {\"messages\": [HumanMessage(content=\"hey there!\")]}\n",
    "app.invoke(inputs)"
   ]
  },
  {
   "cell_type": "code",
   "execution_count": null,
   "id": "96298646-030c-46b6-b76b-bb6ebc8be4ae",
   "metadata": {},
   "outputs": [],
   "source": [
    "french_agent.graph.invoke(inputs)"
   ]
  },
  {
   "cell_type": "code",
   "execution_count": null,
   "id": "6c289323-18ae-46f0-90c6-cfed07039697",
   "metadata": {},
   "outputs": [],
   "source": []
  },
  {
   "cell_type": "code",
   "execution_count": null,
   "id": "ea6f7b86-ec25-422c-92f8-5b789d3d84b6",
   "metadata": {},
   "outputs": [],
   "source": []
  },
  {
   "cell_type": "code",
   "execution_count": 43,
   "id": "1086e666-6e87-4f57-9b25-b64bcdbd6917",
   "metadata": {},
   "outputs": [],
   "source": [
    "from langchain_core.messages import BaseMessage, HumanMessage\n",
    "message = HumanMessage(\n",
    "                content=\"Fetch the UK's GDP over the past 5 years,\"\n",
    "                \" then draw a line graph of it.\"\n",
    "                \" Once you code it up, finish.\"\n",
    "            )"
   ]
  },
  {
   "cell_type": "code",
   "execution_count": 48,
   "id": "d0941e2c-7cce-4b0f-a4eb-e16a59d88a3c",
   "metadata": {},
   "outputs": [
    {
     "data": {
      "text/plain": [
       "AIMessage(content=\"Obtenez le PIB du Royaume-Uni au cours des 5 dernières années, puis tracez un graphique linéaire. Une fois que vous l'avez codé, terminez.\", response_metadata={'finish_reason': 'stop'}, id='run-62447820-bcf3-4bf9-833d-e04260f1293d-0')"
      ]
     },
     "execution_count": 48,
     "metadata": {},
     "output_type": "execute_result"
    }
   ],
   "source": [
    "french_agent.invoke(message)"
   ]
  },
  {
   "cell_type": "code",
   "execution_count": 49,
   "id": "73974956-a92f-4dee-bc7f-8fe2b0cc7455",
   "metadata": {},
   "outputs": [
    {
     "data": {
      "text/plain": [
       "AIMessage(content=\"Obtenez le PIB du Royaume-Uni au cours des 5 dernières années, puis tracez-en un graphique linéaire. Une fois que vous l'aurez programmé, terminez.\", response_metadata={'finish_reason': 'stop'}, id='run-f017ad79-ecef-481f-ad20-c9275b6c7573-0')"
      ]
     },
     "execution_count": 49,
     "metadata": {},
     "output_type": "execute_result"
    }
   ],
   "source": [
    "french_agent.invoke(message.content)"
   ]
  },
  {
   "cell_type": "code",
   "execution_count": null,
   "id": "c4dd233d-7064-41d9-9c60-a1ba91f540ab",
   "metadata": {},
   "outputs": [],
   "source": []
  },
  {
   "cell_type": "code",
   "execution_count": null,
   "id": "366bb9fc-027e-496c-b0bc-942482fc0f69",
   "metadata": {},
   "outputs": [],
   "source": []
  },
  {
   "cell_type": "code",
   "execution_count": null,
   "id": "073beb14-68d6-4de8-817a-2d0948c03561",
   "metadata": {},
   "outputs": [],
   "source": []
  },
  {
   "cell_type": "code",
   "execution_count": 113,
   "id": "fd9456a9-bc7c-4d2c-9194-79feffe957ef",
   "metadata": {},
   "outputs": [],
   "source": [
    "import operator\n",
    "from typing import Annotated, Any\n",
    "\n",
    "from typing_extensions import TypedDict\n",
    "\n",
    "from langgraph.graph import StateGraph, START, END\n",
    "\n",
    "\n",
    "class State(TypedDict):\n",
    "    # The operator.add reducer fn makes this append-only\n",
    "    aggregate: Annotated[list, operator.add]\n",
    "\n",
    "\n",
    "class ReturnNodeValue:\n",
    "    def __init__(self, node_secret: str):\n",
    "        self._value = node_secret\n",
    "\n",
    "    def __call__(self, state: State) -> Any:\n",
    "        print(f\"Adding {self._value} to {state['aggregate']}\")\n",
    "        return {\"aggregate\": [self._value]}\n",
    "\n",
    "\n",
    "builder = StateGraph(State)\n",
    "builder.add_node(\"a\", ReturnNodeValue(\"I'm A\"))\n",
    "builder.add_edge(START, \"a\")\n",
    "builder.add_node(\"b\", ReturnNodeValue(\"I'm B\"))\n",
    "builder.add_node(\"c\", ReturnNodeValue(\"I'm C\"))\n",
    "# builder.add_node(\"d\", ReturnNodeValue(\"I'm D\"))\n",
    "builder.add_edge(\"a\", \"b\")\n",
    "builder.add_edge(\"a\", \"c\")\n",
    "builder.add_edge(\"b\", END)\n",
    "builder.add_edge(\"c\", END)\n",
    "# builder.add_edge(\"d\", END)\n",
    "graph = builder.compile()"
   ]
  },
  {
   "cell_type": "code",
   "execution_count": 114,
   "id": "14707947-b331-4db1-944d-b835b4bdb44a",
   "metadata": {},
   "outputs": [
    {
     "name": "stdout",
     "output_type": "stream",
     "text": [
      "Adding I'm A to []\n",
      "Adding I'm B to [\"I'm A\"]\n",
      "Adding I'm C to [\"I'm A\"]\n"
     ]
    },
    {
     "data": {
      "text/plain": [
       "{'aggregate': [\"I'm A\", \"I'm B\", \"I'm C\"]}"
      ]
     },
     "execution_count": 114,
     "metadata": {},
     "output_type": "execute_result"
    }
   ],
   "source": [
    "graph.invoke({\"aggregate\": []})"
   ]
  },
  {
   "cell_type": "code",
   "execution_count": null,
   "id": "be20285b-019f-4484-8062-46acff7bfa7f",
   "metadata": {},
   "outputs": [],
   "source": []
  }
 ],
 "metadata": {
  "kernelspec": {
   "display_name": "Python 3 (ipykernel)",
   "language": "python",
   "name": "python3"
  },
  "language_info": {
   "codemirror_mode": {
    "name": "ipython",
    "version": 3
   },
   "file_extension": ".py",
   "mimetype": "text/x-python",
   "name": "python",
   "nbconvert_exporter": "python",
   "pygments_lexer": "ipython3",
   "version": "3.11.8"
  }
 },
 "nbformat": 4,
 "nbformat_minor": 5
}
