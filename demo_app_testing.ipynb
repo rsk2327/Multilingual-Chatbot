{
 "cells": [
  {
   "cell_type": "code",
   "execution_count": 1,
   "id": "3d8776d6-0e1d-4567-9fe3-cfbcf3c405b7",
   "metadata": {},
   "outputs": [],
   "source": [
    "from agents.agents import *\n",
    "from agents.utils import *\n",
    "from agents.workflow import * "
   ]
  },
  {
   "cell_type": "code",
   "execution_count": 2,
   "id": "ed54b1a6-bc58-4c8a-a970-862c24ab1922",
   "metadata": {},
   "outputs": [],
   "source": [
    "english_agent, spanish_agent, french_agent = generate_agents()"
   ]
  },
  {
   "cell_type": "code",
   "execution_count": 9,
   "id": "c1f36cfe-e14c-4d27-97b0-5a6395c71cfa",
   "metadata": {},
   "outputs": [],
   "source": [
    "def generate_response(sender, text):\n",
    "\n",
    "    english_agent, spanish_agent, french_agent = generate_agents()\n",
    "\n",
    "    agent_map = {'English':english_agent, 'Spanish':spanish_agent,'French':french_agent}\n",
    "\n",
    "    agent_map[sender].send_text(text)\n",
    "\n",
    "    output = [english_agent.chat_history[-1].content,\n",
    "              spanish_agent.chat_history[-1].content,\n",
    "              french_agent.chat_history[-1].content]\n",
    "\n",
    "    return output\n",
    "\n",
    "    "
   ]
  },
  {
   "cell_type": "code",
   "execution_count": null,
   "id": "2b60dafe-1fcc-4060-ba58-a4db831b1fd5",
   "metadata": {},
   "outputs": [],
   "source": []
  },
  {
   "cell_type": "code",
   "execution_count": null,
   "id": "eb46cae0-6bec-43cd-981f-d94cbb21ba09",
   "metadata": {},
   "outputs": [],
   "source": []
  },
  {
   "cell_type": "code",
   "execution_count": null,
   "id": "560f3bc0-8f93-4816-ac3f-5cc1f657112f",
   "metadata": {},
   "outputs": [],
   "source": []
  },
  {
   "cell_type": "code",
   "execution_count": null,
   "id": "32b941ab-00cc-4275-b579-0282da9f4081",
   "metadata": {},
   "outputs": [],
   "source": []
  },
  {
   "cell_type": "code",
   "execution_count": null,
   "id": "4ecc20be-81e9-4c54-a8ba-1eba776f230c",
   "metadata": {},
   "outputs": [],
   "source": []
  }
 ],
 "metadata": {
  "kernelspec": {
   "display_name": "Python 3 (ipykernel)",
   "language": "python",
   "name": "python3"
  },
  "language_info": {
   "codemirror_mode": {
    "name": "ipython",
    "version": 3
   },
   "file_extension": ".py",
   "mimetype": "text/x-python",
   "name": "python",
   "nbconvert_exporter": "python",
   "pygments_lexer": "ipython3",
   "version": "3.11.8"
  }
 },
 "nbformat": 4,
 "nbformat_minor": 5
}
